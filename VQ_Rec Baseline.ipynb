{
  "cells": [
    {
      "cell_type": "markdown",
      "metadata": {
        "id": "view-in-github",
        "colab_type": "text"
      },
      "source": [
        "<a href=\"https://colab.research.google.com/github/tmukande-debug/VQ-Rec/blob/master/VQ_Rec%20Baseline.ipynb\" target=\"_parent\"><img src=\"https://colab.research.google.com/assets/colab-badge.svg\" alt=\"Open In Colab\"/></a>"
      ]
    },
    {
      "cell_type": "code",
      "execution_count": 1,
      "metadata": {
        "colab": {
          "base_uri": "https://localhost:8080/"
        },
        "id": "GO2PW4l9DB8X",
        "outputId": "c3bd9ffd-33b6-4271-fcc4-de20c0f87106"
      },
      "outputs": [
        {
          "output_type": "stream",
          "name": "stdout",
          "text": [
            "Cloning into 'VQ-Rec'...\n",
            "remote: Enumerating objects: 436, done.\u001b[K\n",
            "remote: Counting objects: 100% (318/318), done.\u001b[K\n",
            "remote: Compressing objects: 100% (258/258), done.\u001b[K\n",
            "remote: Total 436 (delta 140), reused 167 (delta 48), pack-reused 118\u001b[K\n",
            "Receiving objects: 100% (436/436), 58.46 MiB | 28.85 MiB/s, done.\n",
            "Resolving deltas: 100% (155/155), done.\n"
          ]
        }
      ],
      "source": [
        "!git clone https://github.com/tmukande-debug/VQ-Rec"
      ]
    },
    {
      "cell_type": "code",
      "execution_count": 2,
      "metadata": {
        "colab": {
          "base_uri": "https://localhost:8080/"
        },
        "id": "ax4ULK2mk_2u",
        "outputId": "899e44f2-23bf-467e-949a-64c60f7149e0"
      },
      "outputs": [
        {
          "output_type": "stream",
          "name": "stdout",
          "text": [
            "Looking in indexes: https://pypi.org/simple, https://us-python.pkg.dev/colab-wheels/public/simple/\n",
            "Collecting faiss-gpu==1.7.2\n",
            "  Downloading faiss_gpu-1.7.2-cp39-cp39-manylinux_2_17_x86_64.manylinux2014_x86_64.whl (85.5 MB)\n",
            "\u001b[2K     \u001b[90m━━━━━━━━━━━━━━━━━━━━━━━━━━━━━━━━━━━━━━━━\u001b[0m \u001b[32m85.5/85.5 MB\u001b[0m \u001b[31m10.4 MB/s\u001b[0m eta \u001b[36m0:00:00\u001b[0m\n",
            "\u001b[?25hInstalling collected packages: faiss-gpu\n",
            "Successfully installed faiss-gpu-1.7.2\n"
          ]
        }
      ],
      "source": [
        "!pip install faiss-gpu==1.7.2"
      ]
    },
    {
      "cell_type": "code",
      "execution_count": 3,
      "metadata": {
        "id": "oMiK0AFUF6Qm",
        "colab": {
          "base_uri": "https://localhost:8080/"
        },
        "outputId": "886dc039-aa28-41ef-843b-5fb088083206"
      },
      "outputs": [
        {
          "output_type": "stream",
          "name": "stdout",
          "text": [
            "Looking in indexes: https://pypi.org/simple, https://us-python.pkg.dev/colab-wheels/public/simple/\n",
            "Collecting recbole==1.0.1\n",
            "  Downloading recbole-1.0.1-py3-none-any.whl (2.0 MB)\n",
            "\u001b[2K     \u001b[90m━━━━━━━━━━━━━━━━━━━━━━━━━━━━━━━━━━━━━━━━\u001b[0m \u001b[32m2.0/2.0 MB\u001b[0m \u001b[31m23.8 MB/s\u001b[0m eta \u001b[36m0:00:00\u001b[0m\n",
            "\u001b[?25hRequirement already satisfied: torch>=1.7.0 in /usr/local/lib/python3.9/dist-packages (from recbole==1.0.1) (1.13.1+cu116)\n",
            "Requirement already satisfied: scikit-learn>=0.23.2 in /usr/local/lib/python3.9/dist-packages (from recbole==1.0.1) (1.2.2)\n",
            "Requirement already satisfied: tensorboard>=2.5.0 in /usr/local/lib/python3.9/dist-packages (from recbole==1.0.1) (2.11.2)\n",
            "Requirement already satisfied: tqdm>=4.48.2 in /usr/local/lib/python3.9/dist-packages (from recbole==1.0.1) (4.65.0)\n",
            "Collecting colorama==0.4.4\n",
            "  Downloading colorama-0.4.4-py2.py3-none-any.whl (16 kB)\n",
            "Collecting colorlog==4.7.2\n",
            "  Downloading colorlog-4.7.2-py2.py3-none-any.whl (10 kB)\n",
            "Requirement already satisfied: pandas>=1.0.5 in /usr/local/lib/python3.9/dist-packages (from recbole==1.0.1) (1.4.4)\n",
            "Requirement already satisfied: pyyaml>=5.1.0 in /usr/local/lib/python3.9/dist-packages (from recbole==1.0.1) (6.0)\n",
            "Requirement already satisfied: numpy>=1.17.2 in /usr/local/lib/python3.9/dist-packages (from recbole==1.0.1) (1.22.4)\n",
            "Collecting scipy==1.6.0\n",
            "  Downloading scipy-1.6.0-cp39-cp39-manylinux1_x86_64.whl (27.3 MB)\n",
            "\u001b[2K     \u001b[90m━━━━━━━━━━━━━━━━━━━━━━━━━━━━━━━━━━━━━━━━\u001b[0m \u001b[32m27.3/27.3 MB\u001b[0m \u001b[31m20.2 MB/s\u001b[0m eta \u001b[36m0:00:00\u001b[0m\n",
            "\u001b[?25hRequirement already satisfied: python-dateutil>=2.8.1 in /usr/local/lib/python3.9/dist-packages (from pandas>=1.0.5->recbole==1.0.1) (2.8.2)\n",
            "Requirement already satisfied: pytz>=2020.1 in /usr/local/lib/python3.9/dist-packages (from pandas>=1.0.5->recbole==1.0.1) (2022.7.1)\n",
            "Requirement already satisfied: threadpoolctl>=2.0.0 in /usr/local/lib/python3.9/dist-packages (from scikit-learn>=0.23.2->recbole==1.0.1) (3.1.0)\n",
            "Requirement already satisfied: joblib>=1.1.1 in /usr/local/lib/python3.9/dist-packages (from scikit-learn>=0.23.2->recbole==1.0.1) (1.1.1)\n",
            "Requirement already satisfied: tensorboard-plugin-wit>=1.6.0 in /usr/local/lib/python3.9/dist-packages (from tensorboard>=2.5.0->recbole==1.0.1) (1.8.1)\n",
            "Requirement already satisfied: google-auth-oauthlib<0.5,>=0.4.1 in /usr/local/lib/python3.9/dist-packages (from tensorboard>=2.5.0->recbole==1.0.1) (0.4.6)\n",
            "Requirement already satisfied: tensorboard-data-server<0.7.0,>=0.6.0 in /usr/local/lib/python3.9/dist-packages (from tensorboard>=2.5.0->recbole==1.0.1) (0.6.1)\n",
            "Requirement already satisfied: protobuf<4,>=3.9.2 in /usr/local/lib/python3.9/dist-packages (from tensorboard>=2.5.0->recbole==1.0.1) (3.19.6)\n",
            "Requirement already satisfied: wheel>=0.26 in /usr/local/lib/python3.9/dist-packages (from tensorboard>=2.5.0->recbole==1.0.1) (0.40.0)\n",
            "Requirement already satisfied: werkzeug>=1.0.1 in /usr/local/lib/python3.9/dist-packages (from tensorboard>=2.5.0->recbole==1.0.1) (2.2.3)\n",
            "Requirement already satisfied: grpcio>=1.24.3 in /usr/local/lib/python3.9/dist-packages (from tensorboard>=2.5.0->recbole==1.0.1) (1.51.3)\n",
            "Requirement already satisfied: absl-py>=0.4 in /usr/local/lib/python3.9/dist-packages (from tensorboard>=2.5.0->recbole==1.0.1) (1.4.0)\n",
            "Requirement already satisfied: markdown>=2.6.8 in /usr/local/lib/python3.9/dist-packages (from tensorboard>=2.5.0->recbole==1.0.1) (3.4.2)\n",
            "Requirement already satisfied: requests<3,>=2.21.0 in /usr/local/lib/python3.9/dist-packages (from tensorboard>=2.5.0->recbole==1.0.1) (2.27.1)\n",
            "Requirement already satisfied: setuptools>=41.0.0 in /usr/local/lib/python3.9/dist-packages (from tensorboard>=2.5.0->recbole==1.0.1) (67.6.0)\n",
            "Requirement already satisfied: google-auth<3,>=1.6.3 in /usr/local/lib/python3.9/dist-packages (from tensorboard>=2.5.0->recbole==1.0.1) (2.16.2)\n",
            "Requirement already satisfied: typing-extensions in /usr/local/lib/python3.9/dist-packages (from torch>=1.7.0->recbole==1.0.1) (4.5.0)\n",
            "Requirement already satisfied: six>=1.9.0 in /usr/local/lib/python3.9/dist-packages (from google-auth<3,>=1.6.3->tensorboard>=2.5.0->recbole==1.0.1) (1.16.0)\n",
            "Requirement already satisfied: rsa<5,>=3.1.4 in /usr/local/lib/python3.9/dist-packages (from google-auth<3,>=1.6.3->tensorboard>=2.5.0->recbole==1.0.1) (4.9)\n",
            "Requirement already satisfied: pyasn1-modules>=0.2.1 in /usr/local/lib/python3.9/dist-packages (from google-auth<3,>=1.6.3->tensorboard>=2.5.0->recbole==1.0.1) (0.2.8)\n",
            "Requirement already satisfied: cachetools<6.0,>=2.0.0 in /usr/local/lib/python3.9/dist-packages (from google-auth<3,>=1.6.3->tensorboard>=2.5.0->recbole==1.0.1) (5.3.0)\n",
            "Requirement already satisfied: requests-oauthlib>=0.7.0 in /usr/local/lib/python3.9/dist-packages (from google-auth-oauthlib<0.5,>=0.4.1->tensorboard>=2.5.0->recbole==1.0.1) (1.3.1)\n",
            "Requirement already satisfied: importlib-metadata>=4.4 in /usr/local/lib/python3.9/dist-packages (from markdown>=2.6.8->tensorboard>=2.5.0->recbole==1.0.1) (6.1.0)\n",
            "Requirement already satisfied: charset-normalizer~=2.0.0 in /usr/local/lib/python3.9/dist-packages (from requests<3,>=2.21.0->tensorboard>=2.5.0->recbole==1.0.1) (2.0.12)\n",
            "Requirement already satisfied: urllib3<1.27,>=1.21.1 in /usr/local/lib/python3.9/dist-packages (from requests<3,>=2.21.0->tensorboard>=2.5.0->recbole==1.0.1) (1.26.15)\n",
            "Requirement already satisfied: idna<4,>=2.5 in /usr/local/lib/python3.9/dist-packages (from requests<3,>=2.21.0->tensorboard>=2.5.0->recbole==1.0.1) (3.4)\n",
            "Requirement already satisfied: certifi>=2017.4.17 in /usr/local/lib/python3.9/dist-packages (from requests<3,>=2.21.0->tensorboard>=2.5.0->recbole==1.0.1) (2022.12.7)\n",
            "Requirement already satisfied: MarkupSafe>=2.1.1 in /usr/local/lib/python3.9/dist-packages (from werkzeug>=1.0.1->tensorboard>=2.5.0->recbole==1.0.1) (2.1.2)\n",
            "Requirement already satisfied: zipp>=0.5 in /usr/local/lib/python3.9/dist-packages (from importlib-metadata>=4.4->markdown>=2.6.8->tensorboard>=2.5.0->recbole==1.0.1) (3.15.0)\n",
            "Requirement already satisfied: pyasn1<0.5.0,>=0.4.6 in /usr/local/lib/python3.9/dist-packages (from pyasn1-modules>=0.2.1->google-auth<3,>=1.6.3->tensorboard>=2.5.0->recbole==1.0.1) (0.4.8)\n",
            "Requirement already satisfied: oauthlib>=3.0.0 in /usr/local/lib/python3.9/dist-packages (from requests-oauthlib>=0.7.0->google-auth-oauthlib<0.5,>=0.4.1->tensorboard>=2.5.0->recbole==1.0.1) (3.2.2)\n",
            "Installing collected packages: colorlog, scipy, colorama, recbole\n",
            "  Attempting uninstall: scipy\n",
            "    Found existing installation: scipy 1.10.1\n",
            "    Uninstalling scipy-1.10.1:\n",
            "      Successfully uninstalled scipy-1.10.1\n",
            "\u001b[31mERROR: pip's dependency resolver does not currently take into account all the packages that are installed. This behaviour is the source of the following dependency conflicts.\n",
            "gensim 4.3.1 requires scipy>=1.7.0, but you have scipy 1.6.0 which is incompatible.\n",
            "arviz 0.15.1 requires scipy>=1.8.0, but you have scipy 1.6.0 which is incompatible.\u001b[0m\u001b[31m\n",
            "\u001b[0mSuccessfully installed colorama-0.4.4 colorlog-4.7.2 recbole-1.0.1 scipy-1.6.0\n"
          ]
        }
      ],
      "source": [
        "!pip install recbole==1.0.1"
      ]
    },
    {
      "cell_type": "code",
      "execution_count": 15,
      "metadata": {
        "colab": {
          "base_uri": "https://localhost:8080/"
        },
        "id": "CzX2bZJdrAJi",
        "outputId": "92c22402-c790-4da8-9b17-7bd373295f5e"
      },
      "outputs": [
        {
          "output_type": "stream",
          "name": "stdout",
          "text": [
            "Looking in indexes: https://pypi.org/simple, https://us-python.pkg.dev/colab-wheels/public/simple/\n",
            "Collecting routing_transformer\n",
            "  Downloading routing_transformer-1.6.1-py3-none-any.whl (16 kB)\n",
            "Requirement already satisfied: einops in /usr/local/lib/python3.9/dist-packages (from routing_transformer) (0.6.0)\n",
            "Requirement already satisfied: torch in /usr/local/lib/python3.9/dist-packages (from routing_transformer) (1.13.1+cu116)\n",
            "Requirement already satisfied: local-attention>=1.4.0 in /usr/local/lib/python3.9/dist-packages (from routing_transformer) (1.8.5)\n",
            "Collecting mixture-of-experts>=0.2.0\n",
            "  Downloading mixture_of_experts-0.2.1-py3-none-any.whl (6.0 kB)\n",
            "Requirement already satisfied: product-key-memory in /usr/local/lib/python3.9/dist-packages (from routing_transformer) (0.1.10)\n",
            "Requirement already satisfied: typing-extensions in /usr/local/lib/python3.9/dist-packages (from torch->routing_transformer) (4.5.0)\n",
            "Installing collected packages: mixture-of-experts, routing_transformer\n",
            "Successfully installed mixture-of-experts-0.2.1 routing_transformer-1.6.1\n"
          ]
        }
      ],
      "source": [
        "! pip install routing_transformer"
      ]
    },
    {
      "cell_type": "code",
      "source": [
        "#!pip install torch==1.11.0+cu113 torchvision==0.12.0+cu113 torchaudio==0.11.0 --extra-index-url https://download.pytorch.org/whl/cu113"
      ],
      "metadata": {
        "id": "xVGj2Kvautzj"
      },
      "execution_count": null,
      "outputs": []
    },
    {
      "cell_type": "code",
      "execution_count": 5,
      "metadata": {
        "colab": {
          "base_uri": "https://localhost:8080/"
        },
        "id": "bzDVDYdFHd-u",
        "outputId": "a80a5a20-a367-4eac-bbc8-464c9b3ab7aa"
      },
      "outputs": [
        {
          "output_type": "stream",
          "name": "stdout",
          "text": [
            "/content/VQ-Rec\n"
          ]
        }
      ],
      "source": [
        "%cd VQ-Rec/"
      ]
    },
    {
      "cell_type": "code",
      "source": [
        "!pip install torch torchvision --extra-index-url https://download.pytorch.org/whl/rocm5.1.1 "
      ],
      "metadata": {
        "colab": {
          "base_uri": "https://localhost:8080/"
        },
        "id": "HkYBToe3BKMs",
        "outputId": "d2fb559e-0d54-4008-d1a5-5a360fe6295e"
      },
      "execution_count": null,
      "outputs": [
        {
          "output_type": "stream",
          "name": "stdout",
          "text": [
            "Looking in indexes: https://pypi.org/simple, https://us-python.pkg.dev/colab-wheels/public/simple/, https://download.pytorch.org/whl/rocm5.1.1\n",
            "Requirement already satisfied: torch in /usr/local/lib/python3.9/dist-packages (1.13.1+cu116)\n",
            "Requirement already satisfied: torchvision in /usr/local/lib/python3.9/dist-packages (0.14.1+cu116)\n",
            "Requirement already satisfied: typing-extensions in /usr/local/lib/python3.9/dist-packages (from torch) (4.5.0)\n",
            "Requirement already satisfied: requests in /usr/local/lib/python3.9/dist-packages (from torchvision) (2.27.1)\n",
            "Requirement already satisfied: pillow!=8.3.*,>=5.3.0 in /usr/local/lib/python3.9/dist-packages (from torchvision) (8.4.0)\n",
            "Requirement already satisfied: numpy in /usr/local/lib/python3.9/dist-packages (from torchvision) (1.22.4)\n",
            "Requirement already satisfied: idna<4,>=2.5 in /usr/local/lib/python3.9/dist-packages (from requests->torchvision) (3.4)\n",
            "Requirement already satisfied: certifi>=2017.4.17 in /usr/local/lib/python3.9/dist-packages (from requests->torchvision) (2022.12.7)\n",
            "Requirement already satisfied: urllib3<1.27,>=1.21.1 in /usr/local/lib/python3.9/dist-packages (from requests->torchvision) (1.26.15)\n",
            "Requirement already satisfied: charset-normalizer~=2.0.0 in /usr/local/lib/python3.9/dist-packages (from requests->torchvision) (2.0.12)\n"
          ]
        }
      ]
    },
    {
      "cell_type": "code",
      "source": [],
      "metadata": {
        "colab": {
          "base_uri": "https://localhost:8080/"
        },
        "id": "6EBVmmuaBNfW",
        "outputId": "563a05ba-e02f-4346-9703-2caf1c464f49"
      },
      "execution_count": null,
      "outputs": [
        {
          "output_type": "stream",
          "name": "stdout",
          "text": [
            "python3: can't open file '/content/VQ-Rec/launch.py': [Errno 2] No such file or directory\n"
          ]
        }
      ]
    },
    {
      "cell_type": "code",
      "source": [
        "!python pq.py --dataset Arts --gpu_id 0"
      ],
      "metadata": {
        "colab": {
          "base_uri": "https://localhost:8080/"
        },
        "id": "GALiE8eiQbx4",
        "outputId": "3723d18d-292c-4217-bf64-671f6b16d98e"
      },
      "execution_count": null,
      "outputs": [
        {
          "output_type": "stream",
          "name": "stdout",
          "text": [
            "Namespace(dataset='Scientific', input_path='dataset/downstream/', output_path='dataset/downstream/', gpu_id=0, suffix='feat1CLS', plm_size=768, subvector_num=32, n_centroid=8, use_gpu=True, strict=True)\n",
            "Traceback (most recent call last):\n",
            "  File \"/content/VQ-Rec/pq.py\", line 30, in <module>\n",
            "    loaded_feat = np.fromfile(feat_path, dtype=np.float32).reshape(-1, args.plm_size)\n",
            "FileNotFoundError: [Errno 2] No such file or directory: 'dataset/downstream/Scientific/Scientific.feat1CLS'\n"
          ]
        }
      ]
    },
    {
      "cell_type": "code",
      "execution_count": 61,
      "metadata": {
        "colab": {
          "base_uri": "https://localhost:8080/"
        },
        "id": "1faR_WsnLgSo",
        "outputId": "27ded49f-bdcd-4c73-dc5a-d8fc3d82f51e"
      },
      "outputs": [
        {
          "output_type": "stream",
          "name": "stdout",
          "text": [
            "Namespace(m='VQRec', d='Scientific', p='pretrained/VQRec-FHCKM-300.pth', f='')\n",
            "['props/VQRec.yaml', 'props/finetune.yaml']\n",
            "command line args [-d Scientific -p pretrained/VQRec-FHCKM-300.pth] will not be used in RecBole\n",
            "26 Mar 22:33    INFO  \n",
            "\u001b[1;35mGeneral Hyper Parameters:\n",
            "\u001b[0m\u001b[1;36mgpu_id\u001b[0m =\u001b[1;33m 0\u001b[0m\n",
            "\u001b[1;36muse_gpu\u001b[0m =\u001b[1;33m True\u001b[0m\n",
            "\u001b[1;36mseed\u001b[0m =\u001b[1;33m 2020\u001b[0m\n",
            "\u001b[1;36mstate\u001b[0m =\u001b[1;33m INFO\u001b[0m\n",
            "\u001b[1;36mreproducibility\u001b[0m =\u001b[1;33m True\u001b[0m\n",
            "\u001b[1;36mdata_path\u001b[0m =\u001b[1;33m dataset/downstream/Scientific\u001b[0m\n",
            "\u001b[1;36mcheckpoint_dir\u001b[0m =\u001b[1;33m saved\u001b[0m\n",
            "\u001b[1;36mshow_progress\u001b[0m =\u001b[1;33m True\u001b[0m\n",
            "\u001b[1;36msave_dataset\u001b[0m =\u001b[1;33m False\u001b[0m\n",
            "\u001b[1;36mdataset_save_path\u001b[0m =\u001b[1;33m None\u001b[0m\n",
            "\u001b[1;36msave_dataloaders\u001b[0m =\u001b[1;33m False\u001b[0m\n",
            "\u001b[1;36mdataloaders_save_path\u001b[0m =\u001b[1;33m None\u001b[0m\n",
            "\u001b[1;36mlog_wandb\u001b[0m =\u001b[1;33m False\u001b[0m\n",
            "\n",
            "\u001b[1;35mTraining Hyper Parameters:\n",
            "\u001b[0m\u001b[1;36mepochs\u001b[0m =\u001b[1;33m 300\u001b[0m\n",
            "\u001b[1;36mtrain_batch_size\u001b[0m =\u001b[1;33m 1024\u001b[0m\n",
            "\u001b[1;36mlearner\u001b[0m =\u001b[1;33m adam\u001b[0m\n",
            "\u001b[1;36mlearning_rate\u001b[0m =\u001b[1;33m 0.003\u001b[0m\n",
            "\u001b[1;36mneg_sampling\u001b[0m =\u001b[1;33m None\u001b[0m\n",
            "\u001b[1;36meval_step\u001b[0m =\u001b[1;33m 1\u001b[0m\n",
            "\u001b[1;36mstopping_step\u001b[0m =\u001b[1;33m 10\u001b[0m\n",
            "\u001b[1;36mclip_grad_norm\u001b[0m =\u001b[1;33m None\u001b[0m\n",
            "\u001b[1;36mweight_decay\u001b[0m =\u001b[1;33m 0.0\u001b[0m\n",
            "\u001b[1;36mloss_decimal_place\u001b[0m =\u001b[1;33m 4\u001b[0m\n",
            "\n",
            "\u001b[1;35mEvaluation Hyper Parameters:\n",
            "\u001b[0m\u001b[1;36meval_args\u001b[0m =\u001b[1;33m {'split': {'LS': 'valid_and_test'}, 'order': 'TO', 'mode': 'full', 'group_by': 'user'}\u001b[0m\n",
            "\u001b[1;36mrepeatable\u001b[0m =\u001b[1;33m True\u001b[0m\n",
            "\u001b[1;36mmetrics\u001b[0m =\u001b[1;33m ['HIT', 'NDCG']\u001b[0m\n",
            "\u001b[1;36mtopk\u001b[0m =\u001b[1;33m [10, 50]\u001b[0m\n",
            "\u001b[1;36mvalid_metric\u001b[0m =\u001b[1;33m NDCG@10\u001b[0m\n",
            "\u001b[1;36mvalid_metric_bigger\u001b[0m =\u001b[1;33m True\u001b[0m\n",
            "\u001b[1;36meval_batch_size\u001b[0m =\u001b[1;33m 1024\u001b[0m\n",
            "\u001b[1;36mmetric_decimal_place\u001b[0m =\u001b[1;33m 4\u001b[0m\n",
            "\n",
            "\u001b[1;35mDataset Hyper Parameters:\n",
            "\u001b[0m\u001b[1;36mfield_separator\u001b[0m =\u001b[1;33m \t\u001b[0m\n",
            "\u001b[1;36mseq_separator\u001b[0m =\u001b[1;33m  \u001b[0m\n",
            "\u001b[1;36mUSER_ID_FIELD\u001b[0m =\u001b[1;33m user_id\u001b[0m\n",
            "\u001b[1;36mITEM_ID_FIELD\u001b[0m =\u001b[1;33m item_id\u001b[0m\n",
            "\u001b[1;36mRATING_FIELD\u001b[0m =\u001b[1;33m rating\u001b[0m\n",
            "\u001b[1;36mTIME_FIELD\u001b[0m =\u001b[1;33m timestamp\u001b[0m\n",
            "\u001b[1;36mseq_len\u001b[0m =\u001b[1;33m None\u001b[0m\n",
            "\u001b[1;36mLABEL_FIELD\u001b[0m =\u001b[1;33m label\u001b[0m\n",
            "\u001b[1;36mthreshold\u001b[0m =\u001b[1;33m None\u001b[0m\n",
            "\u001b[1;36mNEG_PREFIX\u001b[0m =\u001b[1;33m neg_\u001b[0m\n",
            "\u001b[1;36mload_col\u001b[0m =\u001b[1;33m {'inter': ['user_id', 'item_id_list', 'item_id']}\u001b[0m\n",
            "\u001b[1;36munload_col\u001b[0m =\u001b[1;33m None\u001b[0m\n",
            "\u001b[1;36munused_col\u001b[0m =\u001b[1;33m None\u001b[0m\n",
            "\u001b[1;36madditional_feat_suffix\u001b[0m =\u001b[1;33m None\u001b[0m\n",
            "\u001b[1;36mrm_dup_inter\u001b[0m =\u001b[1;33m None\u001b[0m\n",
            "\u001b[1;36mval_interval\u001b[0m =\u001b[1;33m None\u001b[0m\n",
            "\u001b[1;36mfilter_inter_by_user_or_item\u001b[0m =\u001b[1;33m True\u001b[0m\n",
            "\u001b[1;36muser_inter_num_interval\u001b[0m =\u001b[1;33m [0,inf)\u001b[0m\n",
            "\u001b[1;36mitem_inter_num_interval\u001b[0m =\u001b[1;33m [0,inf)\u001b[0m\n",
            "\u001b[1;36malias_of_user_id\u001b[0m =\u001b[1;33m None\u001b[0m\n",
            "\u001b[1;36malias_of_item_id\u001b[0m =\u001b[1;33m ['item_id_list']\u001b[0m\n",
            "\u001b[1;36malias_of_entity_id\u001b[0m =\u001b[1;33m None\u001b[0m\n",
            "\u001b[1;36malias_of_relation_id\u001b[0m =\u001b[1;33m None\u001b[0m\n",
            "\u001b[1;36mpreload_weight\u001b[0m =\u001b[1;33m None\u001b[0m\n",
            "\u001b[1;36mnormalize_field\u001b[0m =\u001b[1;33m None\u001b[0m\n",
            "\u001b[1;36mnormalize_all\u001b[0m =\u001b[1;33m None\u001b[0m\n",
            "\u001b[1;36mITEM_LIST_LENGTH_FIELD\u001b[0m =\u001b[1;33m item_length\u001b[0m\n",
            "\u001b[1;36mLIST_SUFFIX\u001b[0m =\u001b[1;33m _list\u001b[0m\n",
            "\u001b[1;36mMAX_ITEM_LIST_LENGTH\u001b[0m =\u001b[1;33m 50\u001b[0m\n",
            "\u001b[1;36mPOSITION_FIELD\u001b[0m =\u001b[1;33m position_id\u001b[0m\n",
            "\u001b[1;36mHEAD_ENTITY_ID_FIELD\u001b[0m =\u001b[1;33m head_id\u001b[0m\n",
            "\u001b[1;36mTAIL_ENTITY_ID_FIELD\u001b[0m =\u001b[1;33m tail_id\u001b[0m\n",
            "\u001b[1;36mRELATION_ID_FIELD\u001b[0m =\u001b[1;33m relation_id\u001b[0m\n",
            "\u001b[1;36mENTITY_ID_FIELD\u001b[0m =\u001b[1;33m entity_id\u001b[0m\n",
            "\u001b[1;36mbenchmark_filename\u001b[0m =\u001b[1;33m ['train', 'valid', 'test']\u001b[0m\n",
            "\n",
            "\u001b[1;35mOther Hyper Parameters: \n",
            "\u001b[0m\u001b[1;36mwandb_project\u001b[0m = \u001b[1;33mrecbole\u001b[0m\n",
            "\u001b[1;36mrequire_pow\u001b[0m = \u001b[1;33mFalse\u001b[0m\n",
            "\u001b[1;36mMODEL_TYPE\u001b[0m = \u001b[1;33mModelType.SEQUENTIAL\u001b[0m\n",
            "\u001b[1;36mn_layers\u001b[0m = \u001b[1;33m2\u001b[0m\n",
            "\u001b[1;36mn_heads\u001b[0m = \u001b[1;33m2\u001b[0m\n",
            "\u001b[1;36minner_size\u001b[0m = \u001b[1;33m256\u001b[0m\n",
            "\u001b[1;36mhidden_dropout_prob\u001b[0m = \u001b[1;33m0.5\u001b[0m\n",
            "\u001b[1;36mattn_dropout_prob\u001b[0m = \u001b[1;33m0.5\u001b[0m\n",
            "\u001b[1;36mhidden_act\u001b[0m = \u001b[1;33mgelu\u001b[0m\n",
            "\u001b[1;36mlayer_norm_eps\u001b[0m = \u001b[1;33m1e-12\u001b[0m\n",
            "\u001b[1;36minitializer_range\u001b[0m = \u001b[1;33m0.02\u001b[0m\n",
            "\u001b[1;36mloss_type\u001b[0m = \u001b[1;33mCE\u001b[0m\n",
            "\u001b[1;36mcode_dim\u001b[0m = \u001b[1;33m32\u001b[0m\n",
            "\u001b[1;36mcode_cap\u001b[0m = \u001b[1;33m256\u001b[0m\n",
            "\u001b[1;36mhidden_size\u001b[0m = \u001b[1;33m300\u001b[0m\n",
            "\u001b[1;36mtemperature\u001b[0m = \u001b[1;33m0.07\u001b[0m\n",
            "\u001b[1;36mtrain_stage\u001b[0m = \u001b[1;33minductive_ft\u001b[0m\n",
            "\u001b[1;36mindex_path\u001b[0m = \u001b[1;33mdataset/downstream\u001b[0m\n",
            "\u001b[1;36mindex_pretrain_dataset\u001b[0m = \u001b[1;33mNone\u001b[0m\n",
            "\u001b[1;36mindex_suffix\u001b[0m = \u001b[1;33mOPQ32,IVF1,PQ32x8.strict.index\u001b[0m\n",
            "\u001b[1;36mplm_suffix\u001b[0m = \u001b[1;33mfeat1CLS\u001b[0m\n",
            "\u001b[1;36mplm_size\u001b[0m = \u001b[1;33m768\u001b[0m\n",
            "\u001b[1;36msinkhorn_iter\u001b[0m = \u001b[1;33m3\u001b[0m\n",
            "\u001b[1;36mreassign_steps\u001b[0m = \u001b[1;33m5\u001b[0m\n",
            "\u001b[1;36mfake_idx_ratio\u001b[0m = \u001b[1;33m0.75\u001b[0m\n",
            "\u001b[1;36mtransform\u001b[0m = \u001b[1;33mNone\u001b[0m\n",
            "\u001b[1;36mMODEL_INPUT_TYPE\u001b[0m = \u001b[1;33mInputType.POINTWISE\u001b[0m\n",
            "\u001b[1;36meval_type\u001b[0m = \u001b[1;33mEvaluatorType.RANKING\u001b[0m\n",
            "\u001b[1;36mdevice\u001b[0m = \u001b[1;33mcuda\u001b[0m\n",
            "\u001b[1;36mtrain_neg_sample_args\u001b[0m = \u001b[1;33m{'strategy': 'none'}\u001b[0m\n",
            "\u001b[1;36meval_neg_sample_args\u001b[0m = \u001b[1;33m{'strategy': 'full', 'distribution': 'uniform'}\u001b[0m\n",
            "\n",
            "\u001b[0m\n",
            "\u001b[0m26 Mar 22:33    INFO  Index path: dataset/downstream/Scientific/Scientific.OPQ32,IVF1,PQ32x8.strict.index\u001b[0m\n",
            "\u001b[0m26 Mar 22:33    INFO  \u001b[1;35mScientific\u001b[0m\n",
            "\u001b[1;34mThe number of users\u001b[0m: 8443\n",
            "\u001b[1;34mAverage actions of users\u001b[0m: 6.039445628997868\n",
            "\u001b[1;34mThe number of items\u001b[0m: 4386\n",
            "\u001b[1;34mAverage actions of items\u001b[0m: 11.637753937457202\n",
            "\u001b[1;34mThe number of inters\u001b[0m: 50985\n",
            "\u001b[1;34mThe sparsity of the dataset\u001b[0m: 99.8623180504074%\n",
            "\u001b[1;34mRemain Fields\u001b[0m: ['user_id', 'item_id_list', 'item_id', 'item_length']\u001b[0m\n",
            "\u001b[0m26 Mar 22:33    INFO  \u001b[1;35m[Training]: \u001b[0m\u001b[1;36mtrain_batch_size\u001b[0m = \u001b[1;33m[1024]\u001b[0m\u001b[1;36m negative sampling\u001b[0m: \u001b[1;33m[None]\u001b[0m\n",
            "\u001b[0m26 Mar 22:33    INFO  \u001b[1;35m[Evaluation]: \u001b[0m\u001b[1;36meval_batch_size\u001b[0m = \u001b[1;33m[1024]\u001b[0m\u001b[1;36m eval_args\u001b[0m: \u001b[1;33m[{'split': {'LS': 'valid_and_test'}, 'order': 'TO', 'mode': 'full', 'group_by': 'user'}]\u001b[0m\n",
            "\u001b[0m26 Mar 22:33    INFO  Loading from pretrained/VQRec-FHCKM-300.pth\u001b[0m\n",
            "\u001b[0m26 Mar 22:33    INFO  Transfer [FHCKM] -> [\u001b[1;35mScientific\u001b[0m\n",
            "\u001b[1;34mThe number of users\u001b[0m: 8443\n",
            "\u001b[1;34mAverage actions of users\u001b[0m: 6.039445628997868\n",
            "\u001b[1;34mThe number of items\u001b[0m: 4386\n",
            "\u001b[1;34mAverage actions of items\u001b[0m: 11.637753937457202\n",
            "\u001b[1;34mThe number of inters\u001b[0m: 50985\n",
            "\u001b[1;34mThe sparsity of the dataset\u001b[0m: 99.8623180504074%\n",
            "\u001b[1;34mRemain Fields\u001b[0m: ['user_id', 'item_id_list', 'item_id', 'item_length']]\u001b[0m\n",
            "\u001b[0m26 Mar 22:33    INFO  VQRec(\n",
            "  (pq_code_embedding): Embedding(8224, 300, padding_idx=0)\n",
            "  (position_embedding): Embedding(50, 300)\n",
            "  (trm_encoder): TransformerEncoder(\n",
            "    (layer): ModuleList(\n",
            "      (0): TransformerLayer(\n",
            "        (multi_head_attention): MultiHeadAttention(\n",
            "          (query): Linear(in_features=300, out_features=300, bias=True)\n",
            "          (key): Linear(in_features=300, out_features=300, bias=True)\n",
            "          (value): Linear(in_features=300, out_features=300, bias=True)\n",
            "          (softmax): Softmax(dim=-1)\n",
            "          (attn_dropout): Dropout(p=0.5, inplace=False)\n",
            "          (dense): Linear(in_features=300, out_features=300, bias=True)\n",
            "          (LayerNorm): LayerNorm((300,), eps=1e-12, elementwise_affine=True)\n",
            "          (out_dropout): Dropout(p=0.5, inplace=False)\n",
            "        )\n",
            "        (feed_forward): FeedForward(\n",
            "          (dense_1): Linear(in_features=300, out_features=256, bias=True)\n",
            "          (dense_2): Linear(in_features=256, out_features=300, bias=True)\n",
            "          (LayerNorm): LayerNorm((300,), eps=1e-12, elementwise_affine=True)\n",
            "          (dropout): Dropout(p=0.5, inplace=False)\n",
            "        )\n",
            "      )\n",
            "      (1): TransformerLayer(\n",
            "        (multi_head_attention): MultiHeadAttention(\n",
            "          (query): Linear(in_features=300, out_features=300, bias=True)\n",
            "          (key): Linear(in_features=300, out_features=300, bias=True)\n",
            "          (value): Linear(in_features=300, out_features=300, bias=True)\n",
            "          (softmax): Softmax(dim=-1)\n",
            "          (attn_dropout): Dropout(p=0.5, inplace=False)\n",
            "          (dense): Linear(in_features=300, out_features=300, bias=True)\n",
            "          (LayerNorm): LayerNorm((300,), eps=1e-12, elementwise_affine=True)\n",
            "          (out_dropout): Dropout(p=0.5, inplace=False)\n",
            "        )\n",
            "        (feed_forward): FeedForward(\n",
            "          (dense_1): Linear(in_features=300, out_features=256, bias=True)\n",
            "          (dense_2): Linear(in_features=256, out_features=300, bias=True)\n",
            "          (LayerNorm): LayerNorm((300,), eps=1e-12, elementwise_affine=True)\n",
            "          (dropout): Dropout(p=0.5, inplace=False)\n",
            "        )\n",
            "      )\n",
            "    )\n",
            "  )\n",
            "  (LayerNorm): LayerNorm((300,), eps=1e-12, elementwise_affine=True)\n",
            "  (dropout): Dropout(p=0.5, inplace=False)\n",
            "  (loss_fct): CrossEntropyLoss()\n",
            ")\u001b[1;34m\n",
            "Trainable parameters\u001b[0m: 5629480\u001b[0m\n",
            "\u001b[0m2023-03-26 22:33:42.766025: I tensorflow/core/platform/cpu_feature_guard.cc:193] This TensorFlow binary is optimized with oneAPI Deep Neural Network Library (oneDNN) to use the following CPU instructions in performance-critical operations:  AVX2 FMA\n",
            "To enable them in other operations, rebuild TensorFlow with the appropriate compiler flags.\n",
            "2023-03-26 22:33:44.178684: W tensorflow/compiler/xla/stream_executor/platform/default/dso_loader.cc:64] Could not load dynamic library 'libnvinfer.so.7'; dlerror: libnvinfer.so.7: cannot open shared object file: No such file or directory; LD_LIBRARY_PATH: /usr/lib64-nvidia\n",
            "2023-03-26 22:33:44.178824: W tensorflow/compiler/xla/stream_executor/platform/default/dso_loader.cc:64] Could not load dynamic library 'libnvinfer_plugin.so.7'; dlerror: libnvinfer_plugin.so.7: cannot open shared object file: No such file or directory; LD_LIBRARY_PATH: /usr/lib64-nvidia\n",
            "2023-03-26 22:33:44.178846: W tensorflow/compiler/tf2tensorrt/utils/py_utils.cc:38] TF-TRT Warning: Cannot dlopen some TensorRT libraries. If you would like to use Nvidia GPU with TensorRT, please make sure the missing libraries mentioned above are installed properly.\n",
            "26 Mar 22:33    INFO  Only index assignment tuned.\u001b[0m\n",
            "\u001b[1;35mTrain     0\u001b[0m: 100%|█████████████████████████| 34/34 [00:07<00:00,  4.47it/s, \u001b[1;33mGPU RAM: 5.74 G/14.75 G\u001b[0m]\u001b[0m\u001b[0m\n",
            "\u001b[0m26 Mar 22:33    INFO  \u001b[1;32mepoch 0 training\u001b[0m [\u001b[1;34mtime\u001b[0m: 7.60s, \u001b[1;34mtrain loss\u001b[0m: 292.6019]\u001b[0m\n",
            "\u001b[1;35mEvaluate   \u001b[0m: 100%|███████████████████████████| 9/9 [00:00<00:00, 13.55it/s, \u001b[1;33mGPU RAM: 5.74 G/14.75 G\u001b[0m]\u001b[0m\u001b[0m\n",
            "\u001b[0m26 Mar 22:33    INFO  \u001b[1;32mepoch 0 evaluating\u001b[0m [\u001b[1;34mtime\u001b[0m: 0.71s, \u001b[1;34mvalid_score\u001b[0m: 0.012300]\u001b[0m\n",
            "\u001b[0m26 Mar 22:33    INFO  \u001b[1;34mvalid result\u001b[0m: \n",
            "hit@10 : 0.0222    hit@50 : 0.0458    ndcg@10 : 0.0123    ndcg@50 : 0.0174\u001b[0m\n",
            "\u001b[0m26 Mar 22:33    INFO  \u001b[1;34mSaving current\u001b[0m: saved/VQRec-Mar-26-2023_22-33-45.pth\u001b[0m\n",
            "\u001b[0m26 Mar 22:33    INFO  Only index assignment tuned.\u001b[0m\n",
            "\u001b[1;35mTrain     1\u001b[0m: 100%|█████████████████████████| 34/34 [00:06<00:00,  5.49it/s, \u001b[1;33mGPU RAM: 5.74 G/14.75 G\u001b[0m]\u001b[0m\u001b[0m\n",
            "\u001b[0m26 Mar 22:34    INFO  \u001b[1;32mepoch 1 training\u001b[0m [\u001b[1;34mtime\u001b[0m: 6.20s, \u001b[1;34mtrain loss\u001b[0m: 292.8999]\u001b[0m\n",
            "\u001b[1;35mEvaluate   \u001b[0m: 100%|███████████████████████████| 9/9 [00:00<00:00, 13.20it/s, \u001b[1;33mGPU RAM: 5.74 G/14.75 G\u001b[0m]\u001b[0m\u001b[0m\n",
            "\u001b[0m26 Mar 22:34    INFO  \u001b[1;32mepoch 1 evaluating\u001b[0m [\u001b[1;34mtime\u001b[0m: 0.71s, \u001b[1;34mvalid_score\u001b[0m: 0.011700]\u001b[0m\n",
            "\u001b[0m26 Mar 22:34    INFO  \u001b[1;34mvalid result\u001b[0m: \n",
            "hit@10 : 0.0218    hit@50 : 0.0489    ndcg@10 : 0.0117    ndcg@50 : 0.0177\u001b[0m\n",
            "\u001b[0m26 Mar 22:34    INFO  Only index assignment tuned.\u001b[0m\n",
            "\u001b[1;35mTrain     2\u001b[0m: 100%|█████████████████████████| 34/34 [00:06<00:00,  5.47it/s, \u001b[1;33mGPU RAM: 5.74 G/14.75 G\u001b[0m]\u001b[0m\u001b[0m\n",
            "\u001b[0m26 Mar 22:34    INFO  \u001b[1;32mepoch 2 training\u001b[0m [\u001b[1;34mtime\u001b[0m: 6.22s, \u001b[1;34mtrain loss\u001b[0m: 293.0906]\u001b[0m\n",
            "\u001b[1;35mEvaluate   \u001b[0m: 100%|███████████████████████████| 9/9 [00:00<00:00, 13.17it/s, \u001b[1;33mGPU RAM: 5.74 G/14.75 G\u001b[0m]\u001b[0m\u001b[0m\n",
            "\u001b[0m26 Mar 22:34    INFO  \u001b[1;32mepoch 2 evaluating\u001b[0m [\u001b[1;34mtime\u001b[0m: 0.71s, \u001b[1;34mvalid_score\u001b[0m: 0.014400]\u001b[0m\n",
            "\u001b[0m26 Mar 22:34    INFO  \u001b[1;34mvalid result\u001b[0m: \n",
            "hit@10 : 0.0271    hit@50 : 0.0513    ndcg@10 : 0.0144    ndcg@50 : 0.0197\u001b[0m\n",
            "\u001b[0m26 Mar 22:34    INFO  \u001b[1;34mSaving current\u001b[0m: saved/VQRec-Mar-26-2023_22-33-45.pth\u001b[0m\n",
            "\u001b[0m26 Mar 22:34    INFO  Only index assignment tuned.\u001b[0m\n",
            "\u001b[1;35mTrain     3\u001b[0m: 100%|█████████████████████████| 34/34 [00:06<00:00,  5.42it/s, \u001b[1;33mGPU RAM: 5.74 G/14.75 G\u001b[0m]\u001b[0m\u001b[0m\n",
            "\u001b[0m26 Mar 22:34    INFO  \u001b[1;32mepoch 3 training\u001b[0m [\u001b[1;34mtime\u001b[0m: 6.27s, \u001b[1;34mtrain loss\u001b[0m: 293.1818]\u001b[0m\n",
            "\u001b[1;35mEvaluate   \u001b[0m: 100%|███████████████████████████| 9/9 [00:00<00:00, 12.91it/s, \u001b[1;33mGPU RAM: 5.74 G/14.75 G\u001b[0m]\u001b[0m\u001b[0m\n",
            "\u001b[0m26 Mar 22:34    INFO  \u001b[1;32mepoch 3 evaluating\u001b[0m [\u001b[1;34mtime\u001b[0m: 0.72s, \u001b[1;34mvalid_score\u001b[0m: 0.015400]\u001b[0m\n",
            "\u001b[0m26 Mar 22:34    INFO  \u001b[1;34mvalid result\u001b[0m: \n",
            "hit@10 : 0.0269    hit@50 : 0.0506    ndcg@10 : 0.0154    ndcg@50 : 0.0206\u001b[0m\n",
            "\u001b[0m26 Mar 22:34    INFO  \u001b[1;34mSaving current\u001b[0m: saved/VQRec-Mar-26-2023_22-33-45.pth\u001b[0m\n",
            "\u001b[0m26 Mar 22:34    INFO  Only index assignment tuned.\u001b[0m\n",
            "\u001b[1;35mTrain     4\u001b[0m: 100%|█████████████████████████| 34/34 [00:06<00:00,  5.37it/s, \u001b[1;33mGPU RAM: 5.74 G/14.75 G\u001b[0m]\u001b[0m\u001b[0m\n",
            "\u001b[0m26 Mar 22:34    INFO  \u001b[1;32mepoch 4 training\u001b[0m [\u001b[1;34mtime\u001b[0m: 6.33s, \u001b[1;34mtrain loss\u001b[0m: 292.7715]\u001b[0m\n",
            "\u001b[1;35mEvaluate   \u001b[0m: 100%|███████████████████████████| 9/9 [00:00<00:00, 12.79it/s, \u001b[1;33mGPU RAM: 5.74 G/14.75 G\u001b[0m]\u001b[0m\u001b[0m\n",
            "\u001b[0m26 Mar 22:34    INFO  \u001b[1;32mepoch 4 evaluating\u001b[0m [\u001b[1;34mtime\u001b[0m: 0.75s, \u001b[1;34mvalid_score\u001b[0m: 0.015200]\u001b[0m\n",
            "\u001b[0m26 Mar 22:34    INFO  \u001b[1;34mvalid result\u001b[0m: \n",
            "hit@10 : 0.0278    hit@50 : 0.0502    ndcg@10 : 0.0152    ndcg@50 : 0.0202\u001b[0m\n",
            "\u001b[0m26 Mar 22:34    INFO  Fix index assignment, model tuned.\u001b[0m\n",
            "\u001b[1;35mTrain     5\u001b[0m: 100%|█████████████████████████| 34/34 [00:06<00:00,  5.60it/s, \u001b[1;33mGPU RAM: 5.74 G/14.75 G\u001b[0m]\u001b[0m\u001b[0m\n",
            "\u001b[0m26 Mar 22:34    INFO  \u001b[1;32mepoch 5 training\u001b[0m [\u001b[1;34mtime\u001b[0m: 6.08s, \u001b[1;34mtrain loss\u001b[0m: 276.7826]\u001b[0m\n",
            "\u001b[1;35mEvaluate   \u001b[0m: 100%|███████████████████████████| 9/9 [00:00<00:00, 13.04it/s, \u001b[1;33mGPU RAM: 5.74 G/14.75 G\u001b[0m]\u001b[0m\u001b[0m\n",
            "\u001b[0m26 Mar 22:34    INFO  \u001b[1;32mepoch 5 evaluating\u001b[0m [\u001b[1;34mtime\u001b[0m: 0.72s, \u001b[1;34mvalid_score\u001b[0m: 0.048500]\u001b[0m\n",
            "\u001b[0m26 Mar 22:34    INFO  \u001b[1;34mvalid result\u001b[0m: \n",
            "hit@10 : 0.0894    hit@50 : 0.1681    ndcg@10 : 0.0485    ndcg@50 : 0.0659\u001b[0m\n",
            "\u001b[0m26 Mar 22:34    INFO  \u001b[1;34mSaving current\u001b[0m: saved/VQRec-Mar-26-2023_22-33-45.pth\u001b[0m\n",
            "\u001b[1;35mTrain     6\u001b[0m: 100%|█████████████████████████| 34/34 [00:06<00:00,  5.57it/s, \u001b[1;33mGPU RAM: 5.74 G/14.75 G\u001b[0m]\u001b[0m\u001b[0m\n",
            "\u001b[0m26 Mar 22:34    INFO  \u001b[1;32mepoch 6 training\u001b[0m [\u001b[1;34mtime\u001b[0m: 6.10s, \u001b[1;34mtrain loss\u001b[0m: 246.7995]\u001b[0m\n",
            "\u001b[1;35mEvaluate   \u001b[0m: 100%|███████████████████████████| 9/9 [00:00<00:00, 12.90it/s, \u001b[1;33mGPU RAM: 5.74 G/14.75 G\u001b[0m]\u001b[0m\u001b[0m\n",
            "\u001b[0m26 Mar 22:34    INFO  \u001b[1;32mepoch 6 evaluating\u001b[0m [\u001b[1;34mtime\u001b[0m: 0.74s, \u001b[1;34mvalid_score\u001b[0m: 0.057400]\u001b[0m\n",
            "\u001b[0m26 Mar 22:34    INFO  \u001b[1;34mvalid result\u001b[0m: \n",
            "hit@10 : 0.1057    hit@50 : 0.1998    ndcg@10 : 0.0574    ndcg@50 : 0.0779\u001b[0m\n",
            "\u001b[0m26 Mar 22:34    INFO  \u001b[1;34mSaving current\u001b[0m: saved/VQRec-Mar-26-2023_22-33-45.pth\u001b[0m\n",
            "\u001b[1;35mTrain     7\u001b[0m: 100%|█████████████████████████| 34/34 [00:06<00:00,  5.49it/s, \u001b[1;33mGPU RAM: 5.74 G/14.75 G\u001b[0m]\u001b[0m\u001b[0m\n",
            "\u001b[0m26 Mar 22:34    INFO  \u001b[1;32mepoch 7 training\u001b[0m [\u001b[1;34mtime\u001b[0m: 6.19s, \u001b[1;34mtrain loss\u001b[0m: 235.8097]\u001b[0m\n",
            "\u001b[1;35mEvaluate   \u001b[0m: 100%|███████████████████████████| 9/9 [00:00<00:00, 12.66it/s, \u001b[1;33mGPU RAM: 5.74 G/14.75 G\u001b[0m]\u001b[0m\u001b[0m\n",
            "\u001b[0m26 Mar 22:34    INFO  \u001b[1;32mepoch 7 evaluating\u001b[0m [\u001b[1;34mtime\u001b[0m: 0.74s, \u001b[1;34mvalid_score\u001b[0m: 0.060300]\u001b[0m\n",
            "\u001b[0m26 Mar 22:34    INFO  \u001b[1;34mvalid result\u001b[0m: \n",
            "hit@10 : 0.1116    hit@50 : 0.2091    ndcg@10 : 0.0603    ndcg@50 : 0.0816\u001b[0m\n",
            "\u001b[0m26 Mar 22:34    INFO  \u001b[1;34mSaving current\u001b[0m: saved/VQRec-Mar-26-2023_22-33-45.pth\u001b[0m\n",
            "\u001b[1;35mTrain     8\u001b[0m: 100%|█████████████████████████| 34/34 [00:06<00:00,  5.45it/s, \u001b[1;33mGPU RAM: 5.74 G/14.75 G\u001b[0m]\u001b[0m\u001b[0m\n",
            "\u001b[0m26 Mar 22:34    INFO  \u001b[1;32mepoch 8 training\u001b[0m [\u001b[1;34mtime\u001b[0m: 6.24s, \u001b[1;34mtrain loss\u001b[0m: 228.2743]\u001b[0m\n",
            "\u001b[1;35mEvaluate   \u001b[0m: 100%|███████████████████████████| 9/9 [00:00<00:00, 12.50it/s, \u001b[1;33mGPU RAM: 5.74 G/14.75 G\u001b[0m]\u001b[0m\u001b[0m\n",
            "\u001b[0m26 Mar 22:34    INFO  \u001b[1;32mepoch 8 evaluating\u001b[0m [\u001b[1;34mtime\u001b[0m: 0.77s, \u001b[1;34mvalid_score\u001b[0m: 0.061300]\u001b[0m\n",
            "\u001b[0m26 Mar 22:34    INFO  \u001b[1;34mvalid result\u001b[0m: \n",
            "hit@10 : 0.1141    hit@50 : 0.2155    ndcg@10 : 0.0613    ndcg@50 : 0.0835\u001b[0m\n",
            "\u001b[0m26 Mar 22:34    INFO  \u001b[1;34mSaving current\u001b[0m: saved/VQRec-Mar-26-2023_22-33-45.pth\u001b[0m\n",
            "\u001b[1;35mTrain     9\u001b[0m: 100%|█████████████████████████| 34/34 [00:06<00:00,  5.39it/s, \u001b[1;33mGPU RAM: 5.74 G/14.75 G\u001b[0m]\u001b[0m\u001b[0m\n",
            "\u001b[0m26 Mar 22:34    INFO  \u001b[1;32mepoch 9 training\u001b[0m [\u001b[1;34mtime\u001b[0m: 6.31s, \u001b[1;34mtrain loss\u001b[0m: 222.9346]\u001b[0m\n",
            "\u001b[1;35mEvaluate   \u001b[0m: 100%|███████████████████████████| 9/9 [00:00<00:00, 12.40it/s, \u001b[1;33mGPU RAM: 5.74 G/14.75 G\u001b[0m]\u001b[0m\u001b[0m\n",
            "\u001b[0m26 Mar 22:34    INFO  \u001b[1;32mepoch 9 evaluating\u001b[0m [\u001b[1;34mtime\u001b[0m: 0.76s, \u001b[1;34mvalid_score\u001b[0m: 0.061800]\u001b[0m\n",
            "\u001b[0m26 Mar 22:34    INFO  \u001b[1;34mvalid result\u001b[0m: \n",
            "hit@10 : 0.116    hit@50 : 0.2183    ndcg@10 : 0.0618    ndcg@50 : 0.0842\u001b[0m\n",
            "\u001b[0m26 Mar 22:34    INFO  \u001b[1;34mSaving current\u001b[0m: saved/VQRec-Mar-26-2023_22-33-45.pth\u001b[0m\n",
            "\u001b[1;35mTrain    10\u001b[0m: 100%|█████████████████████████| 34/34 [00:06<00:00,  5.32it/s, \u001b[1;33mGPU RAM: 5.74 G/14.75 G\u001b[0m]\u001b[0m\u001b[0m\n",
            "\u001b[0m26 Mar 22:35    INFO  \u001b[1;32mepoch 10 training\u001b[0m [\u001b[1;34mtime\u001b[0m: 6.39s, \u001b[1;34mtrain loss\u001b[0m: 218.6915]\u001b[0m\n",
            "\u001b[1;35mEvaluate   \u001b[0m: 100%|███████████████████████████| 9/9 [00:00<00:00, 12.26it/s, \u001b[1;33mGPU RAM: 5.74 G/14.75 G\u001b[0m]\u001b[0m\u001b[0m\n",
            "\u001b[0m26 Mar 22:35    INFO  \u001b[1;32mepoch 10 evaluating\u001b[0m [\u001b[1;34mtime\u001b[0m: 0.76s, \u001b[1;34mvalid_score\u001b[0m: 0.063500]\u001b[0m\n",
            "\u001b[0m26 Mar 22:35    INFO  \u001b[1;34mvalid result\u001b[0m: \n",
            "hit@10 : 0.1192    hit@50 : 0.22    ndcg@10 : 0.0635    ndcg@50 : 0.0856\u001b[0m\n",
            "\u001b[0m26 Mar 22:35    INFO  \u001b[1;34mSaving current\u001b[0m: saved/VQRec-Mar-26-2023_22-33-45.pth\u001b[0m\n",
            "\u001b[1;35mTrain    11\u001b[0m: 100%|█████████████████████████| 34/34 [00:06<00:00,  5.31it/s, \u001b[1;33mGPU RAM: 5.74 G/14.75 G\u001b[0m]\u001b[0m\u001b[0m\n",
            "\u001b[0m26 Mar 22:35    INFO  \u001b[1;32mepoch 11 training\u001b[0m [\u001b[1;34mtime\u001b[0m: 6.41s, \u001b[1;34mtrain loss\u001b[0m: 214.8041]\u001b[0m\n",
            "\u001b[1;35mEvaluate   \u001b[0m: 100%|███████████████████████████| 9/9 [00:00<00:00, 12.13it/s, \u001b[1;33mGPU RAM: 5.74 G/14.75 G\u001b[0m]\u001b[0m\u001b[0m\n",
            "\u001b[0m26 Mar 22:35    INFO  \u001b[1;32mepoch 11 evaluating\u001b[0m [\u001b[1;34mtime\u001b[0m: 0.77s, \u001b[1;34mvalid_score\u001b[0m: 0.063400]\u001b[0m\n",
            "\u001b[0m26 Mar 22:35    INFO  \u001b[1;34mvalid result\u001b[0m: \n",
            "hit@10 : 0.1193    hit@50 : 0.2242    ndcg@10 : 0.0634    ndcg@50 : 0.0864\u001b[0m\n",
            "\u001b[1;35mTrain    12\u001b[0m: 100%|█████████████████████████| 34/34 [00:06<00:00,  5.23it/s, \u001b[1;33mGPU RAM: 5.74 G/14.75 G\u001b[0m]\u001b[0m\u001b[0m\n",
            "\u001b[0m26 Mar 22:35    INFO  \u001b[1;32mepoch 12 training\u001b[0m [\u001b[1;34mtime\u001b[0m: 6.50s, \u001b[1;34mtrain loss\u001b[0m: 212.2310]\u001b[0m\n",
            "\u001b[1;35mEvaluate   \u001b[0m: 100%|███████████████████████████| 9/9 [00:00<00:00, 11.83it/s, \u001b[1;33mGPU RAM: 5.74 G/14.75 G\u001b[0m]\u001b[0m\u001b[0m\n",
            "\u001b[0m26 Mar 22:35    INFO  \u001b[1;32mepoch 12 evaluating\u001b[0m [\u001b[1;34mtime\u001b[0m: 0.79s, \u001b[1;34mvalid_score\u001b[0m: 0.064000]\u001b[0m\n",
            "\u001b[0m26 Mar 22:35    INFO  \u001b[1;34mvalid result\u001b[0m: \n",
            "hit@10 : 0.1212    hit@50 : 0.2251    ndcg@10 : 0.064    ndcg@50 : 0.0866\u001b[0m\n",
            "\u001b[0m26 Mar 22:35    INFO  \u001b[1;34mSaving current\u001b[0m: saved/VQRec-Mar-26-2023_22-33-45.pth\u001b[0m\n",
            "\u001b[1;35mTrain    13\u001b[0m: 100%|█████████████████████████| 34/34 [00:06<00:00,  5.15it/s, \u001b[1;33mGPU RAM: 5.74 G/14.75 G\u001b[0m]\u001b[0m\u001b[0m\n",
            "\u001b[0m26 Mar 22:35    INFO  \u001b[1;32mepoch 13 training\u001b[0m [\u001b[1;34mtime\u001b[0m: 6.60s, \u001b[1;34mtrain loss\u001b[0m: 209.2572]\u001b[0m\n",
            "\u001b[1;35mEvaluate   \u001b[0m: 100%|███████████████████████████| 9/9 [00:00<00:00, 11.60it/s, \u001b[1;33mGPU RAM: 5.74 G/14.75 G\u001b[0m]\u001b[0m\u001b[0m\n",
            "\u001b[0m26 Mar 22:35    INFO  \u001b[1;32mepoch 13 evaluating\u001b[0m [\u001b[1;34mtime\u001b[0m: 0.81s, \u001b[1;34mvalid_score\u001b[0m: 0.063900]\u001b[0m\n",
            "\u001b[0m26 Mar 22:35    INFO  \u001b[1;34mvalid result\u001b[0m: \n",
            "hit@10 : 0.1213    hit@50 : 0.2259    ndcg@10 : 0.0639    ndcg@50 : 0.0867\u001b[0m\n",
            "\u001b[1;35mTrain    14\u001b[0m: 100%|█████████████████████████| 34/34 [00:06<00:00,  5.07it/s, \u001b[1;33mGPU RAM: 5.74 G/14.75 G\u001b[0m]\u001b[0m\u001b[0m\n",
            "\u001b[0m26 Mar 22:35    INFO  \u001b[1;32mepoch 14 training\u001b[0m [\u001b[1;34mtime\u001b[0m: 6.71s, \u001b[1;34mtrain loss\u001b[0m: 207.4824]\u001b[0m\n",
            "\u001b[1;35mEvaluate   \u001b[0m: 100%|███████████████████████████| 9/9 [00:00<00:00, 11.47it/s, \u001b[1;33mGPU RAM: 5.74 G/14.75 G\u001b[0m]\u001b[0m\u001b[0m\n",
            "\u001b[0m26 Mar 22:35    INFO  \u001b[1;32mepoch 14 evaluating\u001b[0m [\u001b[1;34mtime\u001b[0m: 0.81s, \u001b[1;34mvalid_score\u001b[0m: 0.063500]\u001b[0m\n",
            "\u001b[0m26 Mar 22:35    INFO  \u001b[1;34mvalid result\u001b[0m: \n",
            "hit@10 : 0.1202    hit@50 : 0.2279    ndcg@10 : 0.0635    ndcg@50 : 0.0869\u001b[0m\n",
            "\u001b[1;35mTrain    15\u001b[0m: 100%|█████████████████████████| 34/34 [00:06<00:00,  5.02it/s, \u001b[1;33mGPU RAM: 5.74 G/14.75 G\u001b[0m]\u001b[0m\u001b[0m\n",
            "\u001b[0m26 Mar 22:35    INFO  \u001b[1;32mepoch 15 training\u001b[0m [\u001b[1;34mtime\u001b[0m: 6.77s, \u001b[1;34mtrain loss\u001b[0m: 205.4567]\u001b[0m\n",
            "\u001b[1;35mEvaluate   \u001b[0m: 100%|███████████████████████████| 9/9 [00:00<00:00, 11.41it/s, \u001b[1;33mGPU RAM: 5.74 G/14.75 G\u001b[0m]\u001b[0m\u001b[0m\n",
            "\u001b[0m26 Mar 22:35    INFO  \u001b[1;32mepoch 15 evaluating\u001b[0m [\u001b[1;34mtime\u001b[0m: 0.83s, \u001b[1;34mvalid_score\u001b[0m: 0.063600]\u001b[0m\n",
            "\u001b[0m26 Mar 22:35    INFO  \u001b[1;34mvalid result\u001b[0m: \n",
            "hit@10 : 0.1212    hit@50 : 0.2246    ndcg@10 : 0.0636    ndcg@50 : 0.0861\u001b[0m\n",
            "\u001b[1;35mTrain    16\u001b[0m: 100%|█████████████████████████| 34/34 [00:06<00:00,  5.03it/s, \u001b[1;33mGPU RAM: 5.74 G/14.75 G\u001b[0m]\u001b[0m\u001b[0m\n",
            "\u001b[0m26 Mar 22:35    INFO  \u001b[1;32mepoch 16 training\u001b[0m [\u001b[1;34mtime\u001b[0m: 6.75s, \u001b[1;34mtrain loss\u001b[0m: 203.7541]\u001b[0m\n",
            "\u001b[1;35mEvaluate   \u001b[0m: 100%|███████████████████████████| 9/9 [00:00<00:00, 11.56it/s, \u001b[1;33mGPU RAM: 5.74 G/14.75 G\u001b[0m]\u001b[0m\u001b[0m\n",
            "\u001b[0m26 Mar 22:35    INFO  \u001b[1;32mepoch 16 evaluating\u001b[0m [\u001b[1;34mtime\u001b[0m: 0.80s, \u001b[1;34mvalid_score\u001b[0m: 0.063500]\u001b[0m\n",
            "\u001b[0m26 Mar 22:35    INFO  \u001b[1;34mvalid result\u001b[0m: \n",
            "hit@10 : 0.1208    hit@50 : 0.2258    ndcg@10 : 0.0635    ndcg@50 : 0.0864\u001b[0m\n",
            "\u001b[1;35mTrain    17\u001b[0m: 100%|█████████████████████████| 34/34 [00:06<00:00,  5.08it/s, \u001b[1;33mGPU RAM: 5.74 G/14.75 G\u001b[0m]\u001b[0m\u001b[0m\n",
            "\u001b[0m26 Mar 22:35    INFO  \u001b[1;32mepoch 17 training\u001b[0m [\u001b[1;34mtime\u001b[0m: 6.70s, \u001b[1;34mtrain loss\u001b[0m: 202.3399]\u001b[0m\n",
            "\u001b[1;35mEvaluate   \u001b[0m: 100%|███████████████████████████| 9/9 [00:00<00:00, 11.68it/s, \u001b[1;33mGPU RAM: 5.74 G/14.75 G\u001b[0m]\u001b[0m\u001b[0m\n",
            "\u001b[0m26 Mar 22:35    INFO  \u001b[1;32mepoch 17 evaluating\u001b[0m [\u001b[1;34mtime\u001b[0m: 0.80s, \u001b[1;34mvalid_score\u001b[0m: 0.063100]\u001b[0m\n",
            "\u001b[0m26 Mar 22:35    INFO  \u001b[1;34mvalid result\u001b[0m: \n",
            "hit@10 : 0.1202    hit@50 : 0.2268    ndcg@10 : 0.0631    ndcg@50 : 0.0865\u001b[0m\n",
            "\u001b[1;35mTrain    18\u001b[0m: 100%|█████████████████████████| 34/34 [00:06<00:00,  5.15it/s, \u001b[1;33mGPU RAM: 5.74 G/14.75 G\u001b[0m]\u001b[0m\u001b[0m\n",
            "\u001b[0m26 Mar 22:36    INFO  \u001b[1;32mepoch 18 training\u001b[0m [\u001b[1;34mtime\u001b[0m: 6.61s, \u001b[1;34mtrain loss\u001b[0m: 200.9746]\u001b[0m\n",
            "\u001b[1;35mEvaluate   \u001b[0m: 100%|███████████████████████████| 9/9 [00:00<00:00, 11.85it/s, \u001b[1;33mGPU RAM: 5.74 G/14.75 G\u001b[0m]\u001b[0m\u001b[0m\n",
            "\u001b[0m26 Mar 22:36    INFO  \u001b[1;32mepoch 18 evaluating\u001b[0m [\u001b[1;34mtime\u001b[0m: 0.79s, \u001b[1;34mvalid_score\u001b[0m: 0.064000]\u001b[0m\n",
            "\u001b[0m26 Mar 22:36    INFO  \u001b[1;34mvalid result\u001b[0m: \n",
            "hit@10 : 0.1225    hit@50 : 0.2274    ndcg@10 : 0.064    ndcg@50 : 0.0868\u001b[0m\n",
            "\u001b[0m26 Mar 22:36    INFO  \u001b[1;34mSaving current\u001b[0m: saved/VQRec-Mar-26-2023_22-33-45.pth\u001b[0m\n",
            "\u001b[1;35mTrain    19\u001b[0m: 100%|█████████████████████████| 34/34 [00:06<00:00,  5.17it/s, \u001b[1;33mGPU RAM: 5.74 G/14.75 G\u001b[0m]\u001b[0m\u001b[0m\n",
            "\u001b[0m26 Mar 22:36    INFO  \u001b[1;32mepoch 19 training\u001b[0m [\u001b[1;34mtime\u001b[0m: 6.57s, \u001b[1;34mtrain loss\u001b[0m: 199.9498]\u001b[0m\n",
            "\u001b[1;35mEvaluate   \u001b[0m: 100%|███████████████████████████| 9/9 [00:00<00:00, 11.86it/s, \u001b[1;33mGPU RAM: 5.74 G/14.75 G\u001b[0m]\u001b[0m\u001b[0m\n",
            "\u001b[0m26 Mar 22:36    INFO  \u001b[1;32mepoch 19 evaluating\u001b[0m [\u001b[1;34mtime\u001b[0m: 0.79s, \u001b[1;34mvalid_score\u001b[0m: 0.063600]\u001b[0m\n",
            "\u001b[0m26 Mar 22:36    INFO  \u001b[1;34mvalid result\u001b[0m: \n",
            "hit@10 : 0.1215    hit@50 : 0.2287    ndcg@10 : 0.0636    ndcg@50 : 0.0869\u001b[0m\n",
            "\u001b[1;35mTrain    20\u001b[0m: 100%|█████████████████████████| 34/34 [00:06<00:00,  5.21it/s, \u001b[1;33mGPU RAM: 5.74 G/14.75 G\u001b[0m]\u001b[0m\u001b[0m\n",
            "\u001b[0m26 Mar 22:36    INFO  \u001b[1;32mepoch 20 training\u001b[0m [\u001b[1;34mtime\u001b[0m: 6.53s, \u001b[1;34mtrain loss\u001b[0m: 198.8559]\u001b[0m\n",
            "\u001b[1;35mEvaluate   \u001b[0m: 100%|███████████████████████████| 9/9 [00:00<00:00, 11.94it/s, \u001b[1;33mGPU RAM: 5.74 G/14.75 G\u001b[0m]\u001b[0m\u001b[0m\n",
            "\u001b[0m26 Mar 22:36    INFO  \u001b[1;32mepoch 20 evaluating\u001b[0m [\u001b[1;34mtime\u001b[0m: 0.80s, \u001b[1;34mvalid_score\u001b[0m: 0.062600]\u001b[0m\n",
            "\u001b[0m26 Mar 22:36    INFO  \u001b[1;34mvalid result\u001b[0m: \n",
            "hit@10 : 0.1189    hit@50 : 0.2309    ndcg@10 : 0.0626    ndcg@50 : 0.0869\u001b[0m\n",
            "\u001b[1;35mTrain    21\u001b[0m: 100%|█████████████████████████| 34/34 [00:06<00:00,  5.26it/s, \u001b[1;33mGPU RAM: 5.74 G/14.75 G\u001b[0m]\u001b[0m\u001b[0m\n",
            "\u001b[0m26 Mar 22:36    INFO  \u001b[1;32mepoch 21 training\u001b[0m [\u001b[1;34mtime\u001b[0m: 6.46s, \u001b[1;34mtrain loss\u001b[0m: 197.7508]\u001b[0m\n",
            "\u001b[1;35mEvaluate   \u001b[0m: 100%|███████████████████████████| 9/9 [00:00<00:00, 11.94it/s, \u001b[1;33mGPU RAM: 5.74 G/14.75 G\u001b[0m]\u001b[0m\u001b[0m\n",
            "\u001b[0m26 Mar 22:36    INFO  \u001b[1;32mepoch 21 evaluating\u001b[0m [\u001b[1;34mtime\u001b[0m: 0.78s, \u001b[1;34mvalid_score\u001b[0m: 0.063000]\u001b[0m\n",
            "\u001b[0m26 Mar 22:36    INFO  \u001b[1;34mvalid result\u001b[0m: \n",
            "hit@10 : 0.1204    hit@50 : 0.2272    ndcg@10 : 0.063    ndcg@50 : 0.0862\u001b[0m\n",
            "\u001b[1;35mTrain    22\u001b[0m: 100%|█████████████████████████| 34/34 [00:06<00:00,  5.24it/s, \u001b[1;33mGPU RAM: 5.74 G/14.75 G\u001b[0m]\u001b[0m\u001b[0m\n",
            "\u001b[0m26 Mar 22:36    INFO  \u001b[1;32mepoch 22 training\u001b[0m [\u001b[1;34mtime\u001b[0m: 6.49s, \u001b[1;34mtrain loss\u001b[0m: 197.0038]\u001b[0m\n",
            "\u001b[1;35mEvaluate   \u001b[0m: 100%|███████████████████████████| 9/9 [00:00<00:00, 11.92it/s, \u001b[1;33mGPU RAM: 5.74 G/14.75 G\u001b[0m]\u001b[0m\u001b[0m\n",
            "\u001b[0m26 Mar 22:36    INFO  \u001b[1;32mepoch 22 evaluating\u001b[0m [\u001b[1;34mtime\u001b[0m: 0.80s, \u001b[1;34mvalid_score\u001b[0m: 0.063100]\u001b[0m\n",
            "\u001b[0m26 Mar 22:36    INFO  \u001b[1;34mvalid result\u001b[0m: \n",
            "hit@10 : 0.1212    hit@50 : 0.228    ndcg@10 : 0.0631    ndcg@50 : 0.0862\u001b[0m\n",
            "\u001b[1;35mTrain    23\u001b[0m: 100%|█████████████████████████| 34/34 [00:06<00:00,  5.23it/s, \u001b[1;33mGPU RAM: 5.74 G/14.75 G\u001b[0m]\u001b[0m\u001b[0m\n",
            "\u001b[0m26 Mar 22:36    INFO  \u001b[1;32mepoch 23 training\u001b[0m [\u001b[1;34mtime\u001b[0m: 6.51s, \u001b[1;34mtrain loss\u001b[0m: 195.9524]\u001b[0m\n",
            "\u001b[1;35mEvaluate   \u001b[0m: 100%|███████████████████████████| 9/9 [00:00<00:00, 11.91it/s, \u001b[1;33mGPU RAM: 5.74 G/14.75 G\u001b[0m]\u001b[0m\u001b[0m\n",
            "\u001b[0m26 Mar 22:36    INFO  \u001b[1;32mepoch 23 evaluating\u001b[0m [\u001b[1;34mtime\u001b[0m: 0.78s, \u001b[1;34mvalid_score\u001b[0m: 0.063300]\u001b[0m\n",
            "\u001b[0m26 Mar 22:36    INFO  \u001b[1;34mvalid result\u001b[0m: \n",
            "hit@10 : 0.1208    hit@50 : 0.2264    ndcg@10 : 0.0633    ndcg@50 : 0.0862\u001b[0m\n",
            "\u001b[1;35mTrain    24\u001b[0m: 100%|█████████████████████████| 34/34 [00:06<00:00,  5.21it/s, \u001b[1;33mGPU RAM: 5.74 G/14.75 G\u001b[0m]\u001b[0m\u001b[0m\n",
            "\u001b[0m26 Mar 22:36    INFO  \u001b[1;32mepoch 24 training\u001b[0m [\u001b[1;34mtime\u001b[0m: 6.53s, \u001b[1;34mtrain loss\u001b[0m: 195.3840]\u001b[0m\n",
            "\u001b[1;35mEvaluate   \u001b[0m: 100%|███████████████████████████| 9/9 [00:00<00:00, 11.85it/s, \u001b[1;33mGPU RAM: 5.74 G/14.75 G\u001b[0m]\u001b[0m\u001b[0m\n",
            "\u001b[0m26 Mar 22:36    INFO  \u001b[1;32mepoch 24 evaluating\u001b[0m [\u001b[1;34mtime\u001b[0m: 0.79s, \u001b[1;34mvalid_score\u001b[0m: 0.063400]\u001b[0m\n",
            "\u001b[0m26 Mar 22:36    INFO  \u001b[1;34mvalid result\u001b[0m: \n",
            "hit@10 : 0.1212    hit@50 : 0.2272    ndcg@10 : 0.0634    ndcg@50 : 0.0864\u001b[0m\n",
            "\u001b[1;35mTrain    25\u001b[0m: 100%|█████████████████████████| 34/34 [00:06<00:00,  5.18it/s, \u001b[1;33mGPU RAM: 5.74 G/14.75 G\u001b[0m]\u001b[0m\u001b[0m\n",
            "\u001b[0m26 Mar 22:36    INFO  \u001b[1;32mepoch 25 training\u001b[0m [\u001b[1;34mtime\u001b[0m: 6.57s, \u001b[1;34mtrain loss\u001b[0m: 194.5376]\u001b[0m\n",
            "\u001b[1;35mEvaluate   \u001b[0m: 100%|███████████████████████████| 9/9 [00:00<00:00, 11.77it/s, \u001b[1;33mGPU RAM: 5.74 G/14.75 G\u001b[0m]\u001b[0m\u001b[0m\n",
            "\u001b[0m26 Mar 22:36    INFO  \u001b[1;32mepoch 25 evaluating\u001b[0m [\u001b[1;34mtime\u001b[0m: 0.79s, \u001b[1;34mvalid_score\u001b[0m: 0.062900]\u001b[0m\n",
            "\u001b[0m26 Mar 22:36    INFO  \u001b[1;34mvalid result\u001b[0m: \n",
            "hit@10 : 0.1204    hit@50 : 0.2292    ndcg@10 : 0.0629    ndcg@50 : 0.0865\u001b[0m\n",
            "\u001b[1;35mTrain    26\u001b[0m: 100%|█████████████████████████| 34/34 [00:06<00:00,  5.16it/s, \u001b[1;33mGPU RAM: 5.74 G/14.75 G\u001b[0m]\u001b[0m\u001b[0m\n",
            "\u001b[0m26 Mar 22:37    INFO  \u001b[1;32mepoch 26 training\u001b[0m [\u001b[1;34mtime\u001b[0m: 6.59s, \u001b[1;34mtrain loss\u001b[0m: 194.1166]\u001b[0m\n",
            "\u001b[1;35mEvaluate   \u001b[0m: 100%|███████████████████████████| 9/9 [00:00<00:00, 11.78it/s, \u001b[1;33mGPU RAM: 5.74 G/14.75 G\u001b[0m]\u001b[0m\u001b[0m\n",
            "\u001b[0m26 Mar 22:37    INFO  \u001b[1;32mepoch 26 evaluating\u001b[0m [\u001b[1;34mtime\u001b[0m: 0.79s, \u001b[1;34mvalid_score\u001b[0m: 0.062500]\u001b[0m\n",
            "\u001b[0m26 Mar 22:37    INFO  \u001b[1;34mvalid result\u001b[0m: \n",
            "hit@10 : 0.1192    hit@50 : 0.228    ndcg@10 : 0.0625    ndcg@50 : 0.0861\u001b[0m\n",
            "\u001b[1;35mTrain    27\u001b[0m: 100%|█████████████████████████| 34/34 [00:06<00:00,  5.16it/s, \u001b[1;33mGPU RAM: 5.74 G/14.75 G\u001b[0m]\u001b[0m\u001b[0m\n",
            "\u001b[0m26 Mar 22:37    INFO  \u001b[1;32mepoch 27 training\u001b[0m [\u001b[1;34mtime\u001b[0m: 6.59s, \u001b[1;34mtrain loss\u001b[0m: 193.2761]\u001b[0m\n",
            "\u001b[1;35mEvaluate   \u001b[0m: 100%|███████████████████████████| 9/9 [00:00<00:00, 11.81it/s, \u001b[1;33mGPU RAM: 5.74 G/14.75 G\u001b[0m]\u001b[0m\u001b[0m\n",
            "\u001b[0m26 Mar 22:37    INFO  \u001b[1;32mepoch 27 evaluating\u001b[0m [\u001b[1;34mtime\u001b[0m: 0.79s, \u001b[1;34mvalid_score\u001b[0m: 0.062600]\u001b[0m\n",
            "\u001b[0m26 Mar 22:37    INFO  \u001b[1;34mvalid result\u001b[0m: \n",
            "hit@10 : 0.1193    hit@50 : 0.2281    ndcg@10 : 0.0626    ndcg@50 : 0.0862\u001b[0m\n",
            "\u001b[1;35mTrain    28\u001b[0m: 100%|█████████████████████████| 34/34 [00:06<00:00,  5.14it/s, \u001b[1;33mGPU RAM: 5.74 G/14.75 G\u001b[0m]\u001b[0m\u001b[0m\n",
            "\u001b[0m26 Mar 22:37    INFO  \u001b[1;32mepoch 28 training\u001b[0m [\u001b[1;34mtime\u001b[0m: 6.61s, \u001b[1;34mtrain loss\u001b[0m: 192.5215]\u001b[0m\n",
            "\u001b[1;35mEvaluate   \u001b[0m: 100%|███████████████████████████| 9/9 [00:00<00:00, 11.70it/s, \u001b[1;33mGPU RAM: 5.74 G/14.75 G\u001b[0m]\u001b[0m\u001b[0m\n",
            "\u001b[0m26 Mar 22:37    INFO  \u001b[1;32mepoch 28 evaluating\u001b[0m [\u001b[1;34mtime\u001b[0m: 0.80s, \u001b[1;34mvalid_score\u001b[0m: 0.062600]\u001b[0m\n",
            "\u001b[0m26 Mar 22:37    INFO  \u001b[1;34mvalid result\u001b[0m: \n",
            "hit@10 : 0.1202    hit@50 : 0.2291    ndcg@10 : 0.0626    ndcg@50 : 0.0862\u001b[0m\n",
            "\u001b[1;35mTrain    29\u001b[0m: 100%|█████████████████████████| 34/34 [00:06<00:00,  5.12it/s, \u001b[1;33mGPU RAM: 5.74 G/14.75 G\u001b[0m]\u001b[0m\u001b[0m\n",
            "\u001b[0m26 Mar 22:37    INFO  \u001b[1;32mepoch 29 training\u001b[0m [\u001b[1;34mtime\u001b[0m: 6.64s, \u001b[1;34mtrain loss\u001b[0m: 192.0780]\u001b[0m\n",
            "\u001b[1;35mEvaluate   \u001b[0m: 100%|███████████████████████████| 9/9 [00:00<00:00, 11.68it/s, \u001b[1;33mGPU RAM: 5.74 G/14.75 G\u001b[0m]\u001b[0m\u001b[0m\n",
            "\u001b[0m26 Mar 22:37    INFO  \u001b[1;32mepoch 29 evaluating\u001b[0m [\u001b[1;34mtime\u001b[0m: 0.82s, \u001b[1;34mvalid_score\u001b[0m: 0.062800]\u001b[0m\n",
            "\u001b[0m26 Mar 22:37    INFO  \u001b[1;34mvalid result\u001b[0m: \n",
            "hit@10 : 0.1201    hit@50 : 0.2283    ndcg@10 : 0.0628    ndcg@50 : 0.0863\u001b[0m\n",
            "\u001b[0m26 Mar 22:37    INFO  Finished training, best eval result in epoch 18\u001b[0m\n",
            "\u001b[0m26 Mar 22:37    INFO  Loading model structure and parameters from saved/VQRec-Mar-26-2023_22-33-45.pth\u001b[0m\n",
            "\u001b[1;35mEvaluate   \u001b[0m: 100%|███████████████████████████| 9/9 [00:00<00:00, 12.00it/s, \u001b[1;33mGPU RAM: 5.74 G/14.75 G\u001b[0m]\u001b[0m\u001b[0m\n",
            "\u001b[0m26 Mar 22:37    INFO  \u001b[1;33mbest valid \u001b[0m: OrderedDict([('hit@10', 0.1225), ('hit@50', 0.2274), ('ndcg@10', 0.064), ('ndcg@50', 0.0868)])\u001b[0m\n",
            "\u001b[0m26 Mar 22:37    INFO  \u001b[1;33mtest result\u001b[0m: OrderedDict([('hit@10', 0.1061), ('hit@50', 0.1921), ('ndcg@10', 0.057), ('ndcg@50', 0.0758)])\u001b[0m\n",
            "\u001b[0m\u001b[0m"
          ]
        }
      ],
      "source": [
        "!python finetune.py -d Scientific -p pretrained/VQRec-FHCKM-300.pth --learning_rate=0.003"
      ]
    }
  ],
  "metadata": {
    "accelerator": "GPU",
    "colab": {
      "provenance": [],
      "authorship_tag": "ABX9TyP+eLNqv47BXSPcKmCXa1gL",
      "include_colab_link": true
    },
    "gpuClass": "standard",
    "kernelspec": {
      "display_name": "Python 3",
      "name": "python3"
    },
    "language_info": {
      "name": "python"
    }
  },
  "nbformat": 4,
  "nbformat_minor": 0
}