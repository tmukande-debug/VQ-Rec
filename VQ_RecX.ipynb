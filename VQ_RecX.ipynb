{
  "nbformat": 4,
  "nbformat_minor": 0,
  "metadata": {
    "colab": {
      "provenance": [],
      "include_colab_link": true
    },
    "kernelspec": {
      "name": "python3",
      "display_name": "Python 3"
    },
    "language_info": {
      "name": "python"
    },
    "accelerator": "GPU",
    "gpuClass": "standard"
  },
  "cells": [
    {
      "cell_type": "markdown",
      "metadata": {
        "id": "view-in-github",
        "colab_type": "text"
      },
      "source": [
        "<a href=\"https://colab.research.google.com/github/tmukande-debug/VQ-Rec/blob/master/VQ_RecX.ipynb\" target=\"_parent\"><img src=\"https://colab.research.google.com/assets/colab-badge.svg\" alt=\"Open In Colab\"/></a>"
      ]
    },
    {
      "cell_type": "code",
      "execution_count": 1,
      "metadata": {
        "colab": {
          "base_uri": "https://localhost:8080/"
        },
        "id": "GO2PW4l9DB8X",
        "outputId": "e832b0f3-ab51-4a8c-e4c3-9078351f4ad0"
      },
      "outputs": [
        {
          "output_type": "stream",
          "name": "stdout",
          "text": [
            "fatal: destination path 'VQ-Rec' already exists and is not an empty directory.\n"
          ]
        }
      ],
      "source": [
        "!git clone https://github.com/tmukande-debug/VQ-Rec"
      ]
    },
    {
      "cell_type": "code",
      "source": [
        "!pip install faiss-gpu==1.7.2"
      ],
      "metadata": {
        "colab": {
          "base_uri": "https://localhost:8080/"
        },
        "id": "ax4ULK2mk_2u",
        "outputId": "82c13d54-b603-4840-da4b-311163e6e542"
      },
      "execution_count": 2,
      "outputs": [
        {
          "output_type": "stream",
          "name": "stdout",
          "text": [
            "Looking in indexes: https://pypi.org/simple, https://us-python.pkg.dev/colab-wheels/public/simple/\n",
            "Requirement already satisfied: faiss-gpu==1.7.2 in /usr/local/lib/python3.9/dist-packages (1.7.2)\n"
          ]
        }
      ]
    },
    {
      "cell_type": "code",
      "source": [
        "!pip install recbole==1.0.1"
      ],
      "metadata": {
        "id": "oMiK0AFUF6Qm",
        "colab": {
          "base_uri": "https://localhost:8080/"
        },
        "outputId": "83b3d350-66c3-410d-8f46-557e3f486c54"
      },
      "execution_count": 3,
      "outputs": [
        {
          "output_type": "stream",
          "name": "stdout",
          "text": [
            "Looking in indexes: https://pypi.org/simple, https://us-python.pkg.dev/colab-wheels/public/simple/\n",
            "Requirement already satisfied: recbole==1.0.1 in /usr/local/lib/python3.9/dist-packages (1.0.1)\n",
            "Requirement already satisfied: tensorboard>=2.5.0 in /usr/local/lib/python3.9/dist-packages (from recbole==1.0.1) (2.11.2)\n",
            "Requirement already satisfied: tqdm>=4.48.2 in /usr/local/lib/python3.9/dist-packages (from recbole==1.0.1) (4.65.0)\n",
            "Requirement already satisfied: scikit-learn>=0.23.2 in /usr/local/lib/python3.9/dist-packages (from recbole==1.0.1) (1.2.2)\n",
            "Requirement already satisfied: pandas>=1.0.5 in /usr/local/lib/python3.9/dist-packages (from recbole==1.0.1) (1.4.4)\n",
            "Requirement already satisfied: colorama==0.4.4 in /usr/local/lib/python3.9/dist-packages (from recbole==1.0.1) (0.4.4)\n",
            "Requirement already satisfied: scipy==1.6.0 in /usr/local/lib/python3.9/dist-packages (from recbole==1.0.1) (1.6.0)\n",
            "Requirement already satisfied: colorlog==4.7.2 in /usr/local/lib/python3.9/dist-packages (from recbole==1.0.1) (4.7.2)\n",
            "Requirement already satisfied: pyyaml>=5.1.0 in /usr/local/lib/python3.9/dist-packages (from recbole==1.0.1) (6.0)\n",
            "Requirement already satisfied: numpy>=1.17.2 in /usr/local/lib/python3.9/dist-packages (from recbole==1.0.1) (1.22.4)\n",
            "Requirement already satisfied: torch>=1.7.0 in /usr/local/lib/python3.9/dist-packages (from recbole==1.0.1) (1.13.1+cu116)\n",
            "Requirement already satisfied: python-dateutil>=2.8.1 in /usr/local/lib/python3.9/dist-packages (from pandas>=1.0.5->recbole==1.0.1) (2.8.2)\n",
            "Requirement already satisfied: pytz>=2020.1 in /usr/local/lib/python3.9/dist-packages (from pandas>=1.0.5->recbole==1.0.1) (2022.7.1)\n",
            "Requirement already satisfied: threadpoolctl>=2.0.0 in /usr/local/lib/python3.9/dist-packages (from scikit-learn>=0.23.2->recbole==1.0.1) (3.1.0)\n",
            "Requirement already satisfied: joblib>=1.1.1 in /usr/local/lib/python3.9/dist-packages (from scikit-learn>=0.23.2->recbole==1.0.1) (1.1.1)\n",
            "Requirement already satisfied: protobuf<4,>=3.9.2 in /usr/local/lib/python3.9/dist-packages (from tensorboard>=2.5.0->recbole==1.0.1) (3.19.6)\n",
            "Requirement already satisfied: absl-py>=0.4 in /usr/local/lib/python3.9/dist-packages (from tensorboard>=2.5.0->recbole==1.0.1) (1.4.0)\n",
            "Requirement already satisfied: google-auth<3,>=1.6.3 in /usr/local/lib/python3.9/dist-packages (from tensorboard>=2.5.0->recbole==1.0.1) (2.16.2)\n",
            "Requirement already satisfied: tensorboard-plugin-wit>=1.6.0 in /usr/local/lib/python3.9/dist-packages (from tensorboard>=2.5.0->recbole==1.0.1) (1.8.1)\n",
            "Requirement already satisfied: werkzeug>=1.0.1 in /usr/local/lib/python3.9/dist-packages (from tensorboard>=2.5.0->recbole==1.0.1) (2.2.3)\n",
            "Requirement already satisfied: wheel>=0.26 in /usr/local/lib/python3.9/dist-packages (from tensorboard>=2.5.0->recbole==1.0.1) (0.40.0)\n",
            "Requirement already satisfied: google-auth-oauthlib<0.5,>=0.4.1 in /usr/local/lib/python3.9/dist-packages (from tensorboard>=2.5.0->recbole==1.0.1) (0.4.6)\n",
            "Requirement already satisfied: markdown>=2.6.8 in /usr/local/lib/python3.9/dist-packages (from tensorboard>=2.5.0->recbole==1.0.1) (3.4.3)\n",
            "Requirement already satisfied: grpcio>=1.24.3 in /usr/local/lib/python3.9/dist-packages (from tensorboard>=2.5.0->recbole==1.0.1) (1.51.3)\n",
            "Requirement already satisfied: setuptools>=41.0.0 in /usr/local/lib/python3.9/dist-packages (from tensorboard>=2.5.0->recbole==1.0.1) (67.6.0)\n",
            "Requirement already satisfied: requests<3,>=2.21.0 in /usr/local/lib/python3.9/dist-packages (from tensorboard>=2.5.0->recbole==1.0.1) (2.27.1)\n",
            "Requirement already satisfied: tensorboard-data-server<0.7.0,>=0.6.0 in /usr/local/lib/python3.9/dist-packages (from tensorboard>=2.5.0->recbole==1.0.1) (0.6.1)\n",
            "Requirement already satisfied: typing-extensions in /usr/local/lib/python3.9/dist-packages (from torch>=1.7.0->recbole==1.0.1) (4.5.0)\n",
            "Requirement already satisfied: six>=1.9.0 in /usr/local/lib/python3.9/dist-packages (from google-auth<3,>=1.6.3->tensorboard>=2.5.0->recbole==1.0.1) (1.16.0)\n",
            "Requirement already satisfied: cachetools<6.0,>=2.0.0 in /usr/local/lib/python3.9/dist-packages (from google-auth<3,>=1.6.3->tensorboard>=2.5.0->recbole==1.0.1) (5.3.0)\n",
            "Requirement already satisfied: pyasn1-modules>=0.2.1 in /usr/local/lib/python3.9/dist-packages (from google-auth<3,>=1.6.3->tensorboard>=2.5.0->recbole==1.0.1) (0.2.8)\n",
            "Requirement already satisfied: rsa<5,>=3.1.4 in /usr/local/lib/python3.9/dist-packages (from google-auth<3,>=1.6.3->tensorboard>=2.5.0->recbole==1.0.1) (4.9)\n",
            "Requirement already satisfied: requests-oauthlib>=0.7.0 in /usr/local/lib/python3.9/dist-packages (from google-auth-oauthlib<0.5,>=0.4.1->tensorboard>=2.5.0->recbole==1.0.1) (1.3.1)\n",
            "Requirement already satisfied: importlib-metadata>=4.4 in /usr/local/lib/python3.9/dist-packages (from markdown>=2.6.8->tensorboard>=2.5.0->recbole==1.0.1) (6.1.0)\n",
            "Requirement already satisfied: idna<4,>=2.5 in /usr/local/lib/python3.9/dist-packages (from requests<3,>=2.21.0->tensorboard>=2.5.0->recbole==1.0.1) (3.4)\n",
            "Requirement already satisfied: charset-normalizer~=2.0.0 in /usr/local/lib/python3.9/dist-packages (from requests<3,>=2.21.0->tensorboard>=2.5.0->recbole==1.0.1) (2.0.12)\n",
            "Requirement already satisfied: certifi>=2017.4.17 in /usr/local/lib/python3.9/dist-packages (from requests<3,>=2.21.0->tensorboard>=2.5.0->recbole==1.0.1) (2022.12.7)\n",
            "Requirement already satisfied: urllib3<1.27,>=1.21.1 in /usr/local/lib/python3.9/dist-packages (from requests<3,>=2.21.0->tensorboard>=2.5.0->recbole==1.0.1) (1.26.15)\n",
            "Requirement already satisfied: MarkupSafe>=2.1.1 in /usr/local/lib/python3.9/dist-packages (from werkzeug>=1.0.1->tensorboard>=2.5.0->recbole==1.0.1) (2.1.2)\n",
            "Requirement already satisfied: zipp>=0.5 in /usr/local/lib/python3.9/dist-packages (from importlib-metadata>=4.4->markdown>=2.6.8->tensorboard>=2.5.0->recbole==1.0.1) (3.15.0)\n",
            "Requirement already satisfied: pyasn1<0.5.0,>=0.4.6 in /usr/local/lib/python3.9/dist-packages (from pyasn1-modules>=0.2.1->google-auth<3,>=1.6.3->tensorboard>=2.5.0->recbole==1.0.1) (0.4.8)\n",
            "Requirement already satisfied: oauthlib>=3.0.0 in /usr/local/lib/python3.9/dist-packages (from requests-oauthlib>=0.7.0->google-auth-oauthlib<0.5,>=0.4.1->tensorboard>=2.5.0->recbole==1.0.1) (3.2.2)\n"
          ]
        }
      ]
    },
    {
      "cell_type": "code",
      "source": [
        "!pip install x_transformers"
      ],
      "metadata": {
        "id": "CzX2bZJdrAJi",
        "colab": {
          "base_uri": "https://localhost:8080/"
        },
        "outputId": "60f202d3-0b10-4a48-a1d9-5de5c95b7eeb"
      },
      "execution_count": 4,
      "outputs": [
        {
          "output_type": "stream",
          "name": "stdout",
          "text": [
            "Looking in indexes: https://pypi.org/simple, https://us-python.pkg.dev/colab-wheels/public/simple/\n",
            "Requirement already satisfied: x_transformers in /usr/local/lib/python3.9/dist-packages (1.10.0)\n",
            "Requirement already satisfied: torch>=1.6 in /usr/local/lib/python3.9/dist-packages (from x_transformers) (1.13.1+cu116)\n",
            "Requirement already satisfied: einops>=0.6 in /usr/local/lib/python3.9/dist-packages (from x_transformers) (0.6.0)\n",
            "Requirement already satisfied: typing-extensions in /usr/local/lib/python3.9/dist-packages (from torch>=1.6->x_transformers) (4.5.0)\n"
          ]
        }
      ]
    },
    {
      "cell_type": "code",
      "source": [
        "%cd VQ-Rec"
      ],
      "metadata": {
        "colab": {
          "base_uri": "https://localhost:8080/"
        },
        "id": "bzDVDYdFHd-u",
        "outputId": "649ac78b-7903-46d5-ddd8-969de006344f"
      },
      "execution_count": 5,
      "outputs": [
        {
          "output_type": "stream",
          "name": "stdout",
          "text": [
            "/content/VQ-Rec\n"
          ]
        }
      ]
    },
    {
      "cell_type": "code",
      "source": [
        "import os\n",
        "os.environ['PYTORCH_CUDA_ALLOC_CONF'] = 'backend=c10, max_split_size_mb=8192'\n",
        "!export PYTORCH_CUDA_ALLOC_CONF=1\n"
      ],
      "metadata": {
        "id": "3CHqhYhcVKaM"
      },
      "execution_count": 6,
      "outputs": []
    },
    {
      "cell_type": "code",
      "source": [
        "!python finetune.py -d Scientific -p pretrained/VQRec-FHCKM-300.pth -f fix_enc --learning_rate=0.003"
      ],
      "metadata": {
        "colab": {
          "base_uri": "https://localhost:8080/"
        },
        "id": "q2F2r-l64TTA",
        "outputId": "913d9c68-3ae7-477f-fe7e-2c8926e81b0e"
      },
      "execution_count": 7,
      "outputs": [
        {
          "output_type": "stream",
          "name": "stdout",
          "text": [
            "Namespace(m='VQRec', d='Scientific', p='pretrained/VQRec-FHCKM-300.pth', f='fix_enc')\n",
            "['props/VQRec.yaml', 'props/finetune.yaml']\n",
            "command line args [-d Scientific -p pretrained/VQRec-FHCKM-300.pth -f fix_enc] will not be used in RecBole\n",
            "28 Mar 22:49    INFO  \n",
            "\u001b[1;35mGeneral Hyper Parameters:\n",
            "\u001b[0m\u001b[1;36mgpu_id\u001b[0m =\u001b[1;33m 0\u001b[0m\n",
            "\u001b[1;36muse_gpu\u001b[0m =\u001b[1;33m True\u001b[0m\n",
            "\u001b[1;36mseed\u001b[0m =\u001b[1;33m 2020\u001b[0m\n",
            "\u001b[1;36mstate\u001b[0m =\u001b[1;33m INFO\u001b[0m\n",
            "\u001b[1;36mreproducibility\u001b[0m =\u001b[1;33m True\u001b[0m\n",
            "\u001b[1;36mdata_path\u001b[0m =\u001b[1;33m dataset/downstream/Scientific\u001b[0m\n",
            "\u001b[1;36mcheckpoint_dir\u001b[0m =\u001b[1;33m saved\u001b[0m\n",
            "\u001b[1;36mshow_progress\u001b[0m =\u001b[1;33m True\u001b[0m\n",
            "\u001b[1;36msave_dataset\u001b[0m =\u001b[1;33m False\u001b[0m\n",
            "\u001b[1;36mdataset_save_path\u001b[0m =\u001b[1;33m None\u001b[0m\n",
            "\u001b[1;36msave_dataloaders\u001b[0m =\u001b[1;33m False\u001b[0m\n",
            "\u001b[1;36mdataloaders_save_path\u001b[0m =\u001b[1;33m None\u001b[0m\n",
            "\u001b[1;36mlog_wandb\u001b[0m =\u001b[1;33m False\u001b[0m\n",
            "\n",
            "\u001b[1;35mTraining Hyper Parameters:\n",
            "\u001b[0m\u001b[1;36mepochs\u001b[0m =\u001b[1;33m 300\u001b[0m\n",
            "\u001b[1;36mtrain_batch_size\u001b[0m =\u001b[1;33m 2048\u001b[0m\n",
            "\u001b[1;36mlearner\u001b[0m =\u001b[1;33m adam\u001b[0m\n",
            "\u001b[1;36mlearning_rate\u001b[0m =\u001b[1;33m 0.003\u001b[0m\n",
            "\u001b[1;36mneg_sampling\u001b[0m =\u001b[1;33m None\u001b[0m\n",
            "\u001b[1;36meval_step\u001b[0m =\u001b[1;33m 1\u001b[0m\n",
            "\u001b[1;36mstopping_step\u001b[0m =\u001b[1;33m 10\u001b[0m\n",
            "\u001b[1;36mclip_grad_norm\u001b[0m =\u001b[1;33m None\u001b[0m\n",
            "\u001b[1;36mweight_decay\u001b[0m =\u001b[1;33m 0.0\u001b[0m\n",
            "\u001b[1;36mloss_decimal_place\u001b[0m =\u001b[1;33m 4\u001b[0m\n",
            "\n",
            "\u001b[1;35mEvaluation Hyper Parameters:\n",
            "\u001b[0m\u001b[1;36meval_args\u001b[0m =\u001b[1;33m {'split': {'LS': 'valid_and_test'}, 'order': 'TO', 'mode': 'full', 'group_by': 'user'}\u001b[0m\n",
            "\u001b[1;36mrepeatable\u001b[0m =\u001b[1;33m True\u001b[0m\n",
            "\u001b[1;36mmetrics\u001b[0m =\u001b[1;33m ['HIT', 'NDCG']\u001b[0m\n",
            "\u001b[1;36mtopk\u001b[0m =\u001b[1;33m [10, 50]\u001b[0m\n",
            "\u001b[1;36mvalid_metric\u001b[0m =\u001b[1;33m NDCG@10\u001b[0m\n",
            "\u001b[1;36mvalid_metric_bigger\u001b[0m =\u001b[1;33m True\u001b[0m\n",
            "\u001b[1;36meval_batch_size\u001b[0m =\u001b[1;33m 1024\u001b[0m\n",
            "\u001b[1;36mmetric_decimal_place\u001b[0m =\u001b[1;33m 4\u001b[0m\n",
            "\n",
            "\u001b[1;35mDataset Hyper Parameters:\n",
            "\u001b[0m\u001b[1;36mfield_separator\u001b[0m =\u001b[1;33m \t\u001b[0m\n",
            "\u001b[1;36mseq_separator\u001b[0m =\u001b[1;33m  \u001b[0m\n",
            "\u001b[1;36mUSER_ID_FIELD\u001b[0m =\u001b[1;33m user_id\u001b[0m\n",
            "\u001b[1;36mITEM_ID_FIELD\u001b[0m =\u001b[1;33m item_id\u001b[0m\n",
            "\u001b[1;36mRATING_FIELD\u001b[0m =\u001b[1;33m rating\u001b[0m\n",
            "\u001b[1;36mTIME_FIELD\u001b[0m =\u001b[1;33m timestamp\u001b[0m\n",
            "\u001b[1;36mseq_len\u001b[0m =\u001b[1;33m None\u001b[0m\n",
            "\u001b[1;36mLABEL_FIELD\u001b[0m =\u001b[1;33m label\u001b[0m\n",
            "\u001b[1;36mthreshold\u001b[0m =\u001b[1;33m None\u001b[0m\n",
            "\u001b[1;36mNEG_PREFIX\u001b[0m =\u001b[1;33m neg_\u001b[0m\n",
            "\u001b[1;36mload_col\u001b[0m =\u001b[1;33m {'inter': ['user_id', 'item_id_list', 'item_id']}\u001b[0m\n",
            "\u001b[1;36munload_col\u001b[0m =\u001b[1;33m None\u001b[0m\n",
            "\u001b[1;36munused_col\u001b[0m =\u001b[1;33m None\u001b[0m\n",
            "\u001b[1;36madditional_feat_suffix\u001b[0m =\u001b[1;33m None\u001b[0m\n",
            "\u001b[1;36mrm_dup_inter\u001b[0m =\u001b[1;33m None\u001b[0m\n",
            "\u001b[1;36mval_interval\u001b[0m =\u001b[1;33m None\u001b[0m\n",
            "\u001b[1;36mfilter_inter_by_user_or_item\u001b[0m =\u001b[1;33m True\u001b[0m\n",
            "\u001b[1;36muser_inter_num_interval\u001b[0m =\u001b[1;33m [0,inf)\u001b[0m\n",
            "\u001b[1;36mitem_inter_num_interval\u001b[0m =\u001b[1;33m [0,inf)\u001b[0m\n",
            "\u001b[1;36malias_of_user_id\u001b[0m =\u001b[1;33m None\u001b[0m\n",
            "\u001b[1;36malias_of_item_id\u001b[0m =\u001b[1;33m ['item_id_list']\u001b[0m\n",
            "\u001b[1;36malias_of_entity_id\u001b[0m =\u001b[1;33m None\u001b[0m\n",
            "\u001b[1;36malias_of_relation_id\u001b[0m =\u001b[1;33m None\u001b[0m\n",
            "\u001b[1;36mpreload_weight\u001b[0m =\u001b[1;33m None\u001b[0m\n",
            "\u001b[1;36mnormalize_field\u001b[0m =\u001b[1;33m None\u001b[0m\n",
            "\u001b[1;36mnormalize_all\u001b[0m =\u001b[1;33m None\u001b[0m\n",
            "\u001b[1;36mITEM_LIST_LENGTH_FIELD\u001b[0m =\u001b[1;33m item_length\u001b[0m\n",
            "\u001b[1;36mLIST_SUFFIX\u001b[0m =\u001b[1;33m _list\u001b[0m\n",
            "\u001b[1;36mMAX_ITEM_LIST_LENGTH\u001b[0m =\u001b[1;33m 50\u001b[0m\n",
            "\u001b[1;36mPOSITION_FIELD\u001b[0m =\u001b[1;33m position_id\u001b[0m\n",
            "\u001b[1;36mHEAD_ENTITY_ID_FIELD\u001b[0m =\u001b[1;33m head_id\u001b[0m\n",
            "\u001b[1;36mTAIL_ENTITY_ID_FIELD\u001b[0m =\u001b[1;33m tail_id\u001b[0m\n",
            "\u001b[1;36mRELATION_ID_FIELD\u001b[0m =\u001b[1;33m relation_id\u001b[0m\n",
            "\u001b[1;36mENTITY_ID_FIELD\u001b[0m =\u001b[1;33m entity_id\u001b[0m\n",
            "\u001b[1;36mbenchmark_filename\u001b[0m =\u001b[1;33m ['train', 'valid', 'test']\u001b[0m\n",
            "\n",
            "\u001b[1;35mOther Hyper Parameters: \n",
            "\u001b[0m\u001b[1;36mwandb_project\u001b[0m = \u001b[1;33mrecbole\u001b[0m\n",
            "\u001b[1;36mrequire_pow\u001b[0m = \u001b[1;33mFalse\u001b[0m\n",
            "\u001b[1;36mMODEL_TYPE\u001b[0m = \u001b[1;33mModelType.SEQUENTIAL\u001b[0m\n",
            "\u001b[1;36mhidden_act\u001b[0m = \u001b[1;33mgelu\u001b[0m\n",
            "\u001b[1;36mlayer_norm_eps\u001b[0m = \u001b[1;33m1e-12\u001b[0m\n",
            "\u001b[1;36minitializer_range\u001b[0m = \u001b[1;33m0.02\u001b[0m\n",
            "\u001b[1;36mnum_tokens\u001b[0m = \u001b[1;33m50000\u001b[0m\n",
            "\u001b[1;36mdim\u001b[0m = \u001b[1;33m64\u001b[0m\n",
            "\u001b[1;36mheads\u001b[0m = \u001b[1;33m2\u001b[0m\n",
            "\u001b[1;36mdepth\u001b[0m = \u001b[1;33m2\u001b[0m\n",
            "\u001b[1;36mmax_seq_len\u001b[0m = \u001b[1;33m1024\u001b[0m\n",
            "\u001b[1;36mcausal\u001b[0m = \u001b[1;33mTrue\u001b[0m\n",
            "\u001b[1;36mloss_type\u001b[0m = \u001b[1;33mCE\u001b[0m\n",
            "\u001b[1;36mcode_dim\u001b[0m = \u001b[1;33m32\u001b[0m\n",
            "\u001b[1;36mcode_cap\u001b[0m = \u001b[1;33m256\u001b[0m\n",
            "\u001b[1;36mhidden_size\u001b[0m = \u001b[1;33m300\u001b[0m\n",
            "\u001b[1;36mtemperature\u001b[0m = \u001b[1;33m0.07\u001b[0m\n",
            "\u001b[1;36mtrain_stage\u001b[0m = \u001b[1;33minductive_ft\u001b[0m\n",
            "\u001b[1;36mindex_path\u001b[0m = \u001b[1;33mdataset/downstream\u001b[0m\n",
            "\u001b[1;36mindex_pretrain_dataset\u001b[0m = \u001b[1;33mNone\u001b[0m\n",
            "\u001b[1;36mindex_suffix\u001b[0m = \u001b[1;33mOPQ32,IVF1,PQ32x8.strict.index\u001b[0m\n",
            "\u001b[1;36mplm_suffix\u001b[0m = \u001b[1;33mfeat1CLS\u001b[0m\n",
            "\u001b[1;36mplm_size\u001b[0m = \u001b[1;33m768\u001b[0m\n",
            "\u001b[1;36msinkhorn_iter\u001b[0m = \u001b[1;33m3\u001b[0m\n",
            "\u001b[1;36mreassign_steps\u001b[0m = \u001b[1;33m5\u001b[0m\n",
            "\u001b[1;36mfake_idx_ratio\u001b[0m = \u001b[1;33m0.75\u001b[0m\n",
            "\u001b[1;36mtransform\u001b[0m = \u001b[1;33mNone\u001b[0m\n",
            "\u001b[1;36mMODEL_INPUT_TYPE\u001b[0m = \u001b[1;33mInputType.POINTWISE\u001b[0m\n",
            "\u001b[1;36meval_type\u001b[0m = \u001b[1;33mEvaluatorType.RANKING\u001b[0m\n",
            "\u001b[1;36mdevice\u001b[0m = \u001b[1;33mcuda\u001b[0m\n",
            "\u001b[1;36mtrain_neg_sample_args\u001b[0m = \u001b[1;33m{'strategy': 'none'}\u001b[0m\n",
            "\u001b[1;36meval_neg_sample_args\u001b[0m = \u001b[1;33m{'strategy': 'full', 'distribution': 'uniform'}\u001b[0m\n",
            "\n",
            "\u001b[0m\n",
            "\u001b[0m28 Mar 22:49    INFO  Index path: dataset/downstream/Scientific/Scientific.OPQ32,IVF1,PQ32x8.strict.index\u001b[0m\n",
            "\u001b[0m28 Mar 22:49    INFO  \u001b[1;35mScientific\u001b[0m\n",
            "\u001b[1;34mThe number of users\u001b[0m: 8443\n",
            "\u001b[1;34mAverage actions of users\u001b[0m: 6.039445628997868\n",
            "\u001b[1;34mThe number of items\u001b[0m: 4386\n",
            "\u001b[1;34mAverage actions of items\u001b[0m: 11.637753937457202\n",
            "\u001b[1;34mThe number of inters\u001b[0m: 50985\n",
            "\u001b[1;34mThe sparsity of the dataset\u001b[0m: 99.8623180504074%\n",
            "\u001b[1;34mRemain Fields\u001b[0m: ['user_id', 'item_id_list', 'item_id', 'item_length']\u001b[0m\n",
            "\u001b[0m28 Mar 22:49    INFO  \u001b[1;35m[Training]: \u001b[0m\u001b[1;36mtrain_batch_size\u001b[0m = \u001b[1;33m[2048]\u001b[0m\u001b[1;36m negative sampling\u001b[0m: \u001b[1;33m[None]\u001b[0m\n",
            "\u001b[0m28 Mar 22:49    INFO  \u001b[1;35m[Evaluation]: \u001b[0m\u001b[1;36meval_batch_size\u001b[0m = \u001b[1;33m[1024]\u001b[0m\u001b[1;36m eval_args\u001b[0m: \u001b[1;33m[{'split': {'LS': 'valid_and_test'}, 'order': 'TO', 'mode': 'full', 'group_by': 'user'}]\u001b[0m\n",
            "\u001b[0m28 Mar 22:49    INFO  Loading from pretrained/VQRec-FHCKM-300.pth\u001b[0m\n",
            "\u001b[0m28 Mar 22:49    INFO  Transfer [FHCKM] -> [\u001b[1;35mScientific\u001b[0m\n",
            "\u001b[1;34mThe number of users\u001b[0m: 8443\n",
            "\u001b[1;34mAverage actions of users\u001b[0m: 6.039445628997868\n",
            "\u001b[1;34mThe number of items\u001b[0m: 4386\n",
            "\u001b[1;34mAverage actions of items\u001b[0m: 11.637753937457202\n",
            "\u001b[1;34mThe number of inters\u001b[0m: 50985\n",
            "\u001b[1;34mThe sparsity of the dataset\u001b[0m: 99.8623180504074%\n",
            "\u001b[1;34mRemain Fields\u001b[0m: ['user_id', 'item_id_list', 'item_id', 'item_length']]\u001b[0m\n",
            "\u001b[0m28 Mar 22:49    INFO  [Fine-tune mode] Fix Seq Encoder!\u001b[0m\n",
            "\u001b[0m28 Mar 22:49    INFO  VQRec(\n",
            "  (pooler): Linear(in_features=300, out_features=300, bias=True)\n",
            "  (pq_code_embedding): Embedding(8224, 300, padding_idx=0)\n",
            "  (position_embedding): Embedding(50, 300)\n",
            "  (trm_encoder): TransformerWrapper(\n",
            "    (token_emb): TokenEmbedding(\n",
            "      (emb): Embedding(50000, 64)\n",
            "    )\n",
            "    (pos_emb): AbsolutePositionalEmbedding(\n",
            "      (emb): Embedding(1024, 64)\n",
            "    )\n",
            "    (post_emb_norm): LayerNorm((64,), eps=1e-05, elementwise_affine=True)\n",
            "    (emb_dropout): Dropout(p=0.0, inplace=False)\n",
            "    (project_emb): Identity()\n",
            "    (attn_layers): Encoder(\n",
            "      (layers): ModuleList(\n",
            "        (0): ModuleList(\n",
            "          (0): ModuleList(\n",
            "            (0): LayerNorm((64,), eps=1e-05, elementwise_affine=True)\n",
            "            (1): None\n",
            "            (2): None\n",
            "          )\n",
            "          (1): Attention(\n",
            "            (to_q): Linear(in_features=64, out_features=128, bias=False)\n",
            "            (to_k): Linear(in_features=64, out_features=128, bias=False)\n",
            "            (to_v): Linear(in_features=64, out_features=128, bias=False)\n",
            "            (dropout): Dropout(p=0.0, inplace=False)\n",
            "            (to_out): Linear(in_features=128, out_features=64, bias=False)\n",
            "          )\n",
            "          (2): Residual()\n",
            "        )\n",
            "        (1): ModuleList(\n",
            "          (0): ModuleList(\n",
            "            (0): LayerNorm((64,), eps=1e-05, elementwise_affine=True)\n",
            "            (1): None\n",
            "            (2): None\n",
            "          )\n",
            "          (1): FeedForward(\n",
            "            (ff): Sequential(\n",
            "              (0): Sequential(\n",
            "                (0): Linear(in_features=64, out_features=256, bias=True)\n",
            "                (1): GELU(approximate='none')\n",
            "              )\n",
            "              (1): Identity()\n",
            "              (2): Dropout(p=0.0, inplace=False)\n",
            "              (3): Linear(in_features=256, out_features=64, bias=True)\n",
            "            )\n",
            "          )\n",
            "          (2): Residual()\n",
            "        )\n",
            "        (2): ModuleList(\n",
            "          (0): ModuleList(\n",
            "            (0): LayerNorm((64,), eps=1e-05, elementwise_affine=True)\n",
            "            (1): None\n",
            "            (2): None\n",
            "          )\n",
            "          (1): Attention(\n",
            "            (to_q): Linear(in_features=64, out_features=128, bias=False)\n",
            "            (to_k): Linear(in_features=64, out_features=128, bias=False)\n",
            "            (to_v): Linear(in_features=64, out_features=128, bias=False)\n",
            "            (dropout): Dropout(p=0.0, inplace=False)\n",
            "            (to_out): Linear(in_features=128, out_features=64, bias=False)\n",
            "          )\n",
            "          (2): Residual()\n",
            "        )\n",
            "        (3): ModuleList(\n",
            "          (0): ModuleList(\n",
            "            (0): LayerNorm((64,), eps=1e-05, elementwise_affine=True)\n",
            "            (1): None\n",
            "            (2): None\n",
            "          )\n",
            "          (1): FeedForward(\n",
            "            (ff): Sequential(\n",
            "              (0): Sequential(\n",
            "                (0): Linear(in_features=64, out_features=256, bias=True)\n",
            "                (1): GELU(approximate='none')\n",
            "              )\n",
            "              (1): Identity()\n",
            "              (2): Dropout(p=0.0, inplace=False)\n",
            "              (3): Linear(in_features=256, out_features=64, bias=True)\n",
            "            )\n",
            "          )\n",
            "          (2): Residual()\n",
            "        )\n",
            "      )\n",
            "    )\n",
            "    (norm): LayerNorm((64,), eps=1e-05, elementwise_affine=True)\n",
            "    (to_logits): Linear(in_features=64, out_features=50000, bias=True)\n",
            "  )\n",
            "  (loss_fct): CrossEntropyLoss()\n",
            ")\u001b[1;34m\n",
            "Trainable parameters\u001b[0m: 4671068\u001b[0m\n",
            "\u001b[0m2023-03-28 22:49:34.992330: I tensorflow/core/platform/cpu_feature_guard.cc:193] This TensorFlow binary is optimized with oneAPI Deep Neural Network Library (oneDNN) to use the following CPU instructions in performance-critical operations:  AVX2 FMA\n",
            "To enable them in other operations, rebuild TensorFlow with the appropriate compiler flags.\n",
            "2023-03-28 22:49:35.940623: W tensorflow/compiler/xla/stream_executor/platform/default/dso_loader.cc:64] Could not load dynamic library 'libnvinfer.so.7'; dlerror: libnvinfer.so.7: cannot open shared object file: No such file or directory; LD_LIBRARY_PATH: /usr/lib64-nvidia\n",
            "2023-03-28 22:49:35.940743: W tensorflow/compiler/xla/stream_executor/platform/default/dso_loader.cc:64] Could not load dynamic library 'libnvinfer_plugin.so.7'; dlerror: libnvinfer_plugin.so.7: cannot open shared object file: No such file or directory; LD_LIBRARY_PATH: /usr/lib64-nvidia\n",
            "2023-03-28 22:49:35.940763: W tensorflow/compiler/tf2tensorrt/utils/py_utils.cc:38] TF-TRT Warning: Cannot dlopen some TensorRT libraries. If you would like to use Nvidia GPU with TensorRT, please make sure the missing libraries mentioned above are installed properly.\n",
            "28 Mar 22:49    INFO  Only index assignment tuned.\u001b[0m\n",
            "\u001b[1;35mTrain     0\u001b[0m:   0%|                                                           | 0/17 [00:01<?, ?it/s]\u001b[0m\u001b[0m\n",
            "\u001b[0mTraceback (most recent call last):\n",
            "\u001b[0m  File \"/content/VQ-Rec/finetune.py\", line 82, in <module>\n",
            "\u001b[0m    \u001b[0mfinetune(args.m, args.d, pretrained_file=args.p, finetune_mode=args.f)\u001b[0m\n",
            "\u001b[0m  File \"/content/VQ-Rec/finetune.py\", line 55, in finetune\n",
            "\u001b[0m    \u001b[0mbest_valid_score, best_valid_result = trainer.fit(\u001b[0m\n",
            "\u001b[0m  File \"/content/VQ-Rec/trainer.py\", line 69, in fit\n",
            "\u001b[0m    \u001b[0mtrain_loss = self._train_epoch(train_data, epoch_idx, show_progress=show_progress)\u001b[0m\n",
            "\u001b[0m  File \"/content/VQ-Rec/trainer.py\", line 156, in _train_epoch\n",
            "\u001b[0m    \u001b[0mlosses = loss_func(interaction)\u001b[0m\n",
            "\u001b[0m  File \"/content/VQ-Rec/vqrecX.py\", line 212, in calculate_loss\n",
            "\u001b[0m    \u001b[0mseq_output = self.forward(item_seq, item_seq_len)\u001b[0m\n",
            "\u001b[0m  File \"/content/VQ-Rec/vqrecX.py\", line 140, in forward\n",
            "\u001b[0m    \u001b[0mtrm_output = self.trm_encoder(input_emb)\u001b[0m\n",
            "\u001b[0m  File \"/usr/local/lib/python3.9/dist-packages/torch/nn/modules/module.py\", line 1194, in _call_impl\n",
            "\u001b[0m    \u001b[0mreturn forward_call(*input, **kwargs)\u001b[0m\n",
            "\u001b[0m  File \"/usr/local/lib/python3.9/dist-packages/x_transformers/x_transformers.py\", line 1353, in forward\n",
            "\u001b[0m    \u001b[0mout = self.to_logits(x)\u001b[0m\n",
            "\u001b[0m  File \"/usr/local/lib/python3.9/dist-packages/torch/nn/modules/module.py\", line 1194, in _call_impl\n",
            "\u001b[0m    \u001b[0mreturn forward_call(*input, **kwargs)\u001b[0m\n",
            "\u001b[0m  File \"/usr/local/lib/python3.9/dist-packages/torch/nn/modules/linear.py\", line 114, in forward\n",
            "\u001b[0m    \u001b[0mreturn F.linear(input, self.weight, self.bias)\u001b[0m\n",
            "\u001b[0mtorch.cuda\u001b[0m.\u001b[0mOutOfMemoryError\u001b[0m: \u001b[0mCUDA out of memory. Tried to allocate 19.07 GiB (GPU 0; 14.75 GiB total capacity; 175.59 MiB already allocated; 13.53 GiB free; 222.00 MiB reserved in total by PyTorch) If reserved memory is >> allocated memory try setting max_split_size_mb to avoid fragmentation.  See documentation for Memory Management and PYTORCH_CUDA_ALLOC_CONF\u001b[0m\n",
            "\u001b[0m\u001b[0m"
          ]
        }
      ]
    }
  ]
}